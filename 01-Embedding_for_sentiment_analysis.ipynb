{
  "cells": [
    {
      "cell_type": "markdown",
      "metadata": {
        "id": "UEa8O_OU8RO_"
      },
      "source": [
        "# Embedding for Sentiment Analysis \n",
        "\n",
        "Now that we know how word embedding works, we'll apply it to a supervised problem of sentiment analysis. The idea is to classify the comments left by users according to the number of stars they gave the Disneyland resort park in their reviews."
      ]
    },
    {
      "cell_type": "markdown",
      "metadata": {
        "id": "GlZE3Ntm8gv4"
      },
      "source": [
        "## Data Preprocessing\n",
        "\n",
        "### Import Data \n",
        "\n",
        "1. Import the following libraries:\n",
        "\n",
        "* tensorflow \n",
        "* pathlib\n",
        "* pandas \n",
        "* os\n",
        "* io\n",
        "* `sklearn.model_selection.train_test_split`"
      ]
    },
    {
      "cell_type": "code",
      "execution_count": 3,
      "metadata": {},
      "outputs": [],
      "source": [
        "#! pip install tensorflow"
      ]
    },
    {
      "cell_type": "code",
      "execution_count": 4,
      "metadata": {
        "id": "RMBnbVdZygEr"
      },
      "outputs": [
        {
          "name": "stderr",
          "output_type": "stream",
          "text": [
            "2024-03-18 12:54:19.847987: I external/local_tsl/tsl/cuda/cudart_stub.cc:32] Could not find cuda drivers on your machine, GPU will not be used.\n",
            "2024-03-18 12:54:19.851272: I external/local_tsl/tsl/cuda/cudart_stub.cc:32] Could not find cuda drivers on your machine, GPU will not be used.\n",
            "2024-03-18 12:54:19.889889: I tensorflow/core/platform/cpu_feature_guard.cc:210] This TensorFlow binary is optimized to use available CPU instructions in performance-critical operations.\n",
            "To enable the following instructions: AVX2 FMA, in other operations, rebuild TensorFlow with the appropriate compiler flags.\n",
            "2024-03-18 12:54:20.861671: W tensorflow/compiler/tf2tensorrt/utils/py_utils.cc:38] TF-TRT Warning: Could not find TensorRT\n"
          ]
        }
      ],
      "source": [
        "# Import Tensorflow & Pathlib librairies\n",
        "import tensorflow as tf \n",
        "import pathlib \n",
        "import pandas as pd \n",
        "import os\n",
        "import io\n",
        "import warnings\n",
        "from sklearn.model_selection import train_test_split\n",
        "warnings.filterwarnings('ignore')"
      ]
    },
    {
      "cell_type": "markdown",
      "metadata": {
        "id": "HIiJ3wIKkC_c"
      },
      "source": [
        "2. Copy the link below and read the file it contains with `pandas`.\n",
        "\n",
        "* https://go.aws/314bBDq"
      ]
    },
    {
      "cell_type": "code",
      "execution_count": 6,
      "metadata": {
        "colab": {
          "base_uri": "https://localhost:8080/",
          "height": 426
        },
        "id": "Irik4DyW0acS",
        "outputId": "de9e2a19-203f-40c1-99ef-e4fa34f45edf"
      },
      "outputs": [
        {
          "data": {
            "text/html": [
              "<div>\n",
              "<style scoped>\n",
              "    .dataframe tbody tr th:only-of-type {\n",
              "        vertical-align: middle;\n",
              "    }\n",
              "\n",
              "    .dataframe tbody tr th {\n",
              "        vertical-align: top;\n",
              "    }\n",
              "\n",
              "    .dataframe thead th {\n",
              "        text-align: right;\n",
              "    }\n",
              "</style>\n",
              "<table border=\"1\" class=\"dataframe\">\n",
              "  <thead>\n",
              "    <tr style=\"text-align: right;\">\n",
              "      <th></th>\n",
              "      <th>user_id</th>\n",
              "      <th>review</th>\n",
              "      <th>stars</th>\n",
              "      <th>date_format</th>\n",
              "      <th>time_of_day</th>\n",
              "      <th>hour_of_day</th>\n",
              "      <th>day_of_week</th>\n",
              "      <th>review_format</th>\n",
              "      <th>review_lang</th>\n",
              "      <th>month_year</th>\n",
              "      <th>review_len</th>\n",
              "      <th>review_nb_words</th>\n",
              "    </tr>\n",
              "  </thead>\n",
              "  <tbody>\n",
              "    <tr>\n",
              "      <th>0</th>\n",
              "      <td>efb62a167fee5cf3678b24427de8e31f</td>\n",
              "      <td>Génial, fabuleux, exceptionnel ! J'aimerais qu...</td>\n",
              "      <td>5</td>\n",
              "      <td>2017-09-29 18:17:00</td>\n",
              "      <td>18:17</td>\n",
              "      <td>18</td>\n",
              "      <td>Ven</td>\n",
              "      <td>génial  fabuleux  exceptionnel   j aimerais qu...</td>\n",
              "      <td>french</td>\n",
              "      <td>2017-09</td>\n",
              "      <td>115</td>\n",
              "      <td>19</td>\n",
              "    </tr>\n",
              "    <tr>\n",
              "      <th>1</th>\n",
              "      <td>e3be4f9c9e0b9572bfb2a5f88497bb14</td>\n",
              "      <td>NaN</td>\n",
              "      <td>2</td>\n",
              "      <td>2017-09-29 17:29:00</td>\n",
              "      <td>17:29</td>\n",
              "      <td>17</td>\n",
              "      <td>Ven</td>\n",
              "      <td>NaN</td>\n",
              "      <td>NaN</td>\n",
              "      <td>2017-09</td>\n",
              "      <td>0</td>\n",
              "      <td>0</td>\n",
              "    </tr>\n",
              "    <tr>\n",
              "      <th>2</th>\n",
              "      <td>1b8e5760162d867e9b9ca80f645bdc60</td>\n",
              "      <td>Toujours aussi magic, féerique !</td>\n",
              "      <td>5</td>\n",
              "      <td>2017-09-29 16:46:00</td>\n",
              "      <td>16:46</td>\n",
              "      <td>16</td>\n",
              "      <td>Ven</td>\n",
              "      <td>toujours aussi magic  féerique</td>\n",
              "      <td>french</td>\n",
              "      <td>2017-09</td>\n",
              "      <td>32</td>\n",
              "      <td>4</td>\n",
              "    </tr>\n",
              "    <tr>\n",
              "      <th>3</th>\n",
              "      <td>fa330e5891a1bb486c3e9bf95c098726</td>\n",
              "      <td>NaN</td>\n",
              "      <td>5</td>\n",
              "      <td>2017-09-29 15:52:00</td>\n",
              "      <td>15:52</td>\n",
              "      <td>15</td>\n",
              "      <td>Ven</td>\n",
              "      <td>NaN</td>\n",
              "      <td>NaN</td>\n",
              "      <td>2017-09</td>\n",
              "      <td>0</td>\n",
              "      <td>0</td>\n",
              "    </tr>\n",
              "    <tr>\n",
              "      <th>4</th>\n",
              "      <td>c1a693206aee1a2412d4bd9e45b80ec5</td>\n",
              "      <td>NaN</td>\n",
              "      <td>3</td>\n",
              "      <td>2017-09-29 15:29:00</td>\n",
              "      <td>15:29</td>\n",
              "      <td>15</td>\n",
              "      <td>Ven</td>\n",
              "      <td>NaN</td>\n",
              "      <td>NaN</td>\n",
              "      <td>2017-09</td>\n",
              "      <td>0</td>\n",
              "      <td>0</td>\n",
              "    </tr>\n",
              "  </tbody>\n",
              "</table>\n",
              "</div>"
            ],
            "text/plain": [
              "                            user_id  \\\n",
              "0  efb62a167fee5cf3678b24427de8e31f   \n",
              "1  e3be4f9c9e0b9572bfb2a5f88497bb14   \n",
              "2  1b8e5760162d867e9b9ca80f645bdc60   \n",
              "3  fa330e5891a1bb486c3e9bf95c098726   \n",
              "4  c1a693206aee1a2412d4bd9e45b80ec5   \n",
              "\n",
              "                                              review  stars  \\\n",
              "0  Génial, fabuleux, exceptionnel ! J'aimerais qu...      5   \n",
              "1                                                NaN      2   \n",
              "2                   Toujours aussi magic, féerique !      5   \n",
              "3                                                NaN      5   \n",
              "4                                                NaN      3   \n",
              "\n",
              "           date_format time_of_day  hour_of_day day_of_week  \\\n",
              "0  2017-09-29 18:17:00       18:17           18         Ven   \n",
              "1  2017-09-29 17:29:00       17:29           17         Ven   \n",
              "2  2017-09-29 16:46:00       16:46           16         Ven   \n",
              "3  2017-09-29 15:52:00       15:52           15         Ven   \n",
              "4  2017-09-29 15:29:00       15:29           15         Ven   \n",
              "\n",
              "                                       review_format review_lang month_year  \\\n",
              "0  génial  fabuleux  exceptionnel   j aimerais qu...      french    2017-09   \n",
              "1                                                NaN         NaN    2017-09   \n",
              "2                   toujours aussi magic  féerique        french    2017-09   \n",
              "3                                                NaN         NaN    2017-09   \n",
              "4                                                NaN         NaN    2017-09   \n",
              "\n",
              "   review_len  review_nb_words  \n",
              "0         115               19  \n",
              "1           0                0  \n",
              "2          32                4  \n",
              "3           0                0  \n",
              "4           0                0  "
            ]
          },
          "execution_count": 6,
          "metadata": {},
          "output_type": "execute_result"
        }
      ],
      "source": [
        "# Import dataset with Pandas \n",
        "# Import dataset with Pandas \n",
        "dataset = pd.read_csv(\"https://go.aws/314bBDq\", encoding=\"utf-8\")\n",
        "dataset.head()"
      ]
    },
    {
      "cell_type": "markdown",
      "metadata": {
        "id": "r_SUNZnzldIC"
      },
      "source": [
        "3. We will need the reviews in French. Filter the reviews so that they are in the right language. For this you need to find a column that gives you that information."
      ]
    },
    {
      "cell_type": "code",
      "execution_count": 7,
      "metadata": {},
      "outputs": [
        {
          "data": {
            "text/plain": [
              "Index(['user_id', 'review', 'stars', 'date_format', 'time_of_day',\n",
              "       'hour_of_day', 'day_of_week', 'review_format', 'review_lang',\n",
              "       'month_year', 'review_len', 'review_nb_words'],\n",
              "      dtype='object')"
            ]
          },
          "execution_count": 7,
          "metadata": {},
          "output_type": "execute_result"
        }
      ],
      "source": [
        "dataset.columns"
      ]
    },
    {
      "cell_type": "code",
      "execution_count": 8,
      "metadata": {
        "colab": {
          "base_uri": "https://localhost:8080/",
          "height": 357
        },
        "id": "lXLZFpg50swK",
        "outputId": "142e5043-436a-49c2-9176-06aaead0a721"
      },
      "outputs": [
        {
          "data": {
            "text/html": [
              "<div>\n",
              "<style scoped>\n",
              "    .dataframe tbody tr th:only-of-type {\n",
              "        vertical-align: middle;\n",
              "    }\n",
              "\n",
              "    .dataframe tbody tr th {\n",
              "        vertical-align: top;\n",
              "    }\n",
              "\n",
              "    .dataframe thead th {\n",
              "        text-align: right;\n",
              "    }\n",
              "</style>\n",
              "<table border=\"1\" class=\"dataframe\">\n",
              "  <thead>\n",
              "    <tr style=\"text-align: right;\">\n",
              "      <th></th>\n",
              "      <th>user_id</th>\n",
              "      <th>review</th>\n",
              "      <th>stars</th>\n",
              "      <th>date_format</th>\n",
              "      <th>time_of_day</th>\n",
              "      <th>hour_of_day</th>\n",
              "      <th>day_of_week</th>\n",
              "      <th>review_format</th>\n",
              "      <th>review_lang</th>\n",
              "      <th>month_year</th>\n",
              "      <th>review_len</th>\n",
              "      <th>review_nb_words</th>\n",
              "    </tr>\n",
              "  </thead>\n",
              "  <tbody>\n",
              "    <tr>\n",
              "      <th>0</th>\n",
              "      <td>efb62a167fee5cf3678b24427de8e31f</td>\n",
              "      <td>Génial, fabuleux, exceptionnel ! J'aimerais qu...</td>\n",
              "      <td>5</td>\n",
              "      <td>2017-09-29 18:17:00</td>\n",
              "      <td>18:17</td>\n",
              "      <td>18</td>\n",
              "      <td>Ven</td>\n",
              "      <td>génial  fabuleux  exceptionnel   j aimerais qu...</td>\n",
              "      <td>french</td>\n",
              "      <td>2017-09</td>\n",
              "      <td>115</td>\n",
              "      <td>19</td>\n",
              "    </tr>\n",
              "    <tr>\n",
              "      <th>2</th>\n",
              "      <td>1b8e5760162d867e9b9ca80f645bdc60</td>\n",
              "      <td>Toujours aussi magic, féerique !</td>\n",
              "      <td>5</td>\n",
              "      <td>2017-09-29 16:46:00</td>\n",
              "      <td>16:46</td>\n",
              "      <td>16</td>\n",
              "      <td>Ven</td>\n",
              "      <td>toujours aussi magic  féerique</td>\n",
              "      <td>french</td>\n",
              "      <td>2017-09</td>\n",
              "      <td>32</td>\n",
              "      <td>4</td>\n",
              "    </tr>\n",
              "    <tr>\n",
              "      <th>11</th>\n",
              "      <td>726b1a3e2664e8b075129bcd643dbf56</td>\n",
              "      <td>En vacances en région parisienne nous nous som...</td>\n",
              "      <td>2</td>\n",
              "      <td>2017-09-29 00:37:00</td>\n",
              "      <td>00:37</td>\n",
              "      <td>0</td>\n",
              "      <td>Ven</td>\n",
              "      <td>en vacances en région parisienne nous nous som...</td>\n",
              "      <td>french</td>\n",
              "      <td>2017-09</td>\n",
              "      <td>172</td>\n",
              "      <td>25</td>\n",
              "    </tr>\n",
              "    <tr>\n",
              "      <th>12</th>\n",
              "      <td>8a71763fbb3da7436b957681b24cc404</td>\n",
              "      <td>Tropbeaufinalpleinlesyeuxoreil</td>\n",
              "      <td>5</td>\n",
              "      <td>2017-09-29 00:16:00</td>\n",
              "      <td>00:16</td>\n",
              "      <td>0</td>\n",
              "      <td>Ven</td>\n",
              "      <td>tropbeaufinalpleinlesyeuxoreil</td>\n",
              "      <td>french</td>\n",
              "      <td>2017-09</td>\n",
              "      <td>30</td>\n",
              "      <td>1</td>\n",
              "    </tr>\n",
              "    <tr>\n",
              "      <th>23</th>\n",
              "      <td>ce7abd7798ee036d667c0ad84b85daa7</td>\n",
              "      <td>L'univers Disney reste merveilleux. Toutefois ...</td>\n",
              "      <td>4</td>\n",
              "      <td>2017-09-28 20:24:00</td>\n",
              "      <td>20:24</td>\n",
              "      <td>20</td>\n",
              "      <td>Jeu</td>\n",
              "      <td>l univers disney reste merveilleux  toutefois ...</td>\n",
              "      <td>french</td>\n",
              "      <td>2017-09</td>\n",
              "      <td>148</td>\n",
              "      <td>23</td>\n",
              "    </tr>\n",
              "  </tbody>\n",
              "</table>\n",
              "</div>"
            ],
            "text/plain": [
              "                             user_id  \\\n",
              "0   efb62a167fee5cf3678b24427de8e31f   \n",
              "2   1b8e5760162d867e9b9ca80f645bdc60   \n",
              "11  726b1a3e2664e8b075129bcd643dbf56   \n",
              "12  8a71763fbb3da7436b957681b24cc404   \n",
              "23  ce7abd7798ee036d667c0ad84b85daa7   \n",
              "\n",
              "                                               review  stars  \\\n",
              "0   Génial, fabuleux, exceptionnel ! J'aimerais qu...      5   \n",
              "2                    Toujours aussi magic, féerique !      5   \n",
              "11  En vacances en région parisienne nous nous som...      2   \n",
              "12                     Tropbeaufinalpleinlesyeuxoreil      5   \n",
              "23  L'univers Disney reste merveilleux. Toutefois ...      4   \n",
              "\n",
              "            date_format time_of_day  hour_of_day day_of_week  \\\n",
              "0   2017-09-29 18:17:00       18:17           18         Ven   \n",
              "2   2017-09-29 16:46:00       16:46           16         Ven   \n",
              "11  2017-09-29 00:37:00       00:37            0         Ven   \n",
              "12  2017-09-29 00:16:00       00:16            0         Ven   \n",
              "23  2017-09-28 20:24:00       20:24           20         Jeu   \n",
              "\n",
              "                                        review_format review_lang month_year  \\\n",
              "0   génial  fabuleux  exceptionnel   j aimerais qu...      french    2017-09   \n",
              "2                    toujours aussi magic  féerique        french    2017-09   \n",
              "11  en vacances en région parisienne nous nous som...      french    2017-09   \n",
              "12                     tropbeaufinalpleinlesyeuxoreil      french    2017-09   \n",
              "23  l univers disney reste merveilleux  toutefois ...      french    2017-09   \n",
              "\n",
              "    review_len  review_nb_words  \n",
              "0          115               19  \n",
              "2           32                4  \n",
              "11         172               25  \n",
              "12          30                1  \n",
              "23         148               23  "
            ]
          },
          "execution_count": 8,
          "metadata": {},
          "output_type": "execute_result"
        }
      ],
      "source": [
        "# Taking only french reviews\n",
        "# Taking only french reviews\n",
        "french_reviews = dataset[dataset.review_lang == \"french\"]\n",
        "french_reviews.head()"
      ]
    },
    {
      "cell_type": "markdown",
      "metadata": {
        "id": "As6OupSYl5La"
      },
      "source": [
        "4. Keep only the `review` & `stars` columns."
      ]
    },
    {
      "cell_type": "code",
      "execution_count": 10,
      "metadata": {
        "colab": {
          "base_uri": "https://localhost:8080/",
          "height": 206
        },
        "id": "xe2j2atl1qNM",
        "outputId": "b71519c2-5944-4130-fffa-1a07dad518d9"
      },
      "outputs": [
        {
          "data": {
            "text/html": [
              "<div>\n",
              "<style scoped>\n",
              "    .dataframe tbody tr th:only-of-type {\n",
              "        vertical-align: middle;\n",
              "    }\n",
              "\n",
              "    .dataframe tbody tr th {\n",
              "        vertical-align: top;\n",
              "    }\n",
              "\n",
              "    .dataframe thead th {\n",
              "        text-align: right;\n",
              "    }\n",
              "</style>\n",
              "<table border=\"1\" class=\"dataframe\">\n",
              "  <thead>\n",
              "    <tr style=\"text-align: right;\">\n",
              "      <th></th>\n",
              "      <th>review</th>\n",
              "      <th>stars</th>\n",
              "    </tr>\n",
              "  </thead>\n",
              "  <tbody>\n",
              "    <tr>\n",
              "      <th>0</th>\n",
              "      <td>Génial, fabuleux, exceptionnel ! J'aimerais qu...</td>\n",
              "      <td>5</td>\n",
              "    </tr>\n",
              "    <tr>\n",
              "      <th>2</th>\n",
              "      <td>Toujours aussi magic, féerique !</td>\n",
              "      <td>5</td>\n",
              "    </tr>\n",
              "    <tr>\n",
              "      <th>11</th>\n",
              "      <td>En vacances en région parisienne nous nous som...</td>\n",
              "      <td>2</td>\n",
              "    </tr>\n",
              "    <tr>\n",
              "      <th>12</th>\n",
              "      <td>Tropbeaufinalpleinlesyeuxoreil</td>\n",
              "      <td>5</td>\n",
              "    </tr>\n",
              "    <tr>\n",
              "      <th>23</th>\n",
              "      <td>L'univers Disney reste merveilleux. Toutefois ...</td>\n",
              "      <td>4</td>\n",
              "    </tr>\n",
              "  </tbody>\n",
              "</table>\n",
              "</div>"
            ],
            "text/plain": [
              "                                               review  stars\n",
              "0   Génial, fabuleux, exceptionnel ! J'aimerais qu...      5\n",
              "2                    Toujours aussi magic, féerique !      5\n",
              "11  En vacances en région parisienne nous nous som...      2\n",
              "12                     Tropbeaufinalpleinlesyeuxoreil      5\n",
              "23  L'univers Disney reste merveilleux. Toutefois ...      4"
            ]
          },
          "execution_count": 10,
          "metadata": {},
          "output_type": "execute_result"
        }
      ],
      "source": [
        "# Let's take# Let's take the columns we're interested in \n",
        "french_reviews = french_reviews[[\"review\", \"stars\"]]\n",
        "french_reviews.head()"
      ]
    },
    {
      "cell_type": "markdown",
      "metadata": {
        "id": "X8Duro5f8i7U"
      },
      "source": [
        "### Preprocessing\n",
        "\n",
        "We will now go through a preprocessing phase. The goal is to clean up the character strings and encode the words so they are represented as integers."
      ]
    },
    {
      "cell_type": "markdown",
      "metadata": {
        "id": "Z1khjji0HMvk"
      },
      "source": [
        "1. Use the command: `!python -m spacy download fr_core_news_md` to download all language elements related to the French language"
      ]
    },
    {
      "cell_type": "code",
      "execution_count": 17,
      "metadata": {},
      "outputs": [],
      "source": [
        "#! pip install spacy"
      ]
    },
    {
      "cell_type": "code",
      "execution_count": 18,
      "metadata": {
        "colab": {
          "base_uri": "https://localhost:8080/"
        },
        "id": "VwTE6DhFmH7A",
        "outputId": "6ab54716-e2b3-47fa-c0d6-26b02dc09ef2"
      },
      "outputs": [
        {
          "name": "stdout",
          "output_type": "stream",
          "text": [
            "\u001b[38;5;2m✔ Download and installation successful\u001b[0m\n",
            "You can now load the package via spacy.load('fr_core_news_md')\n"
          ]
        }
      ],
      "source": [
        "!python -m spacy download fr_core_news_md -q"
      ]
    },
    {
      "cell_type": "markdown",
      "metadata": {
        "id": "VBnV02P_HYHB"
      },
      "source": [
        "2. Load now `fr_core_news_md` into a variable called `nlp`"
      ]
    },
    {
      "cell_type": "code",
      "execution_count": 19,
      "metadata": {
        "id": "xhHn4g5VmlPa"
      },
      "outputs": [],
      "source": [
        "# Import # Import Spacy and french initialisation\n",
        "import fr_core_news_md\n",
        "nlp = fr_core_news_md.load()"
      ]
    },
    {
      "cell_type": "markdown",
      "metadata": {
        "id": "SQL-RX0KHb-F"
      },
      "source": [
        "3. Import french STOP_WORDS"
      ]
    },
    {
      "cell_type": "code",
      "execution_count": 20,
      "metadata": {
        "id": "TZNd26-z1xIT"
      },
      "outputs": [],
      "source": [
        "# Import Stop words \n",
        "from spacy.lang.fr.stop_words import STOP_WORDS"
      ]
    },
    {
      "cell_type": "markdown",
      "metadata": {
        "id": "tgT6StTqmoNt"
      },
      "source": [
        "4. Try the `nlp` function on the following sentence `\"je la laisse, je veux la laisser, je l'ai laissée, je me suis laissé aller\"`, and extract the lemma using a list comprehension, what happened to the words in the sentence?"
      ]
    },
    {
      "cell_type": "code",
      "execution_count": 21,
      "metadata": {
        "id": "rX8rL0BwOmou"
      },
      "outputs": [],
      "source": [
        "test = nlp(\"je la laisse, je veux la laisser, je l'ai laissée, je me suis laissé aller\")"
      ]
    },
    {
      "cell_type": "code",
      "execution_count": 24,
      "metadata": {},
      "outputs": [
        {
          "data": {
            "text/plain": [
              "['je',\n",
              " 'le',\n",
              " 'laisse',\n",
              " ',',\n",
              " 'je',\n",
              " 'vouloir',\n",
              " 'le',\n",
              " 'laisser',\n",
              " ',',\n",
              " 'je',\n",
              " 'le',\n",
              " 'avoir',\n",
              " 'laisser',\n",
              " ',',\n",
              " 'je',\n",
              " 'me',\n",
              " 'être',\n",
              " 'laisser',\n",
              " 'aller']"
            ]
          },
          "execution_count": 24,
          "metadata": {},
          "output_type": "execute_result"
        }
      ],
      "source": [
        "[word.lemma_ for word in test]"
      ]
    },
    {
      "cell_type": "markdown",
      "metadata": {
        "id": "wQFRoLUSnWcm"
      },
      "source": [
        "All the words are replaced by a common representation, the reason why the word `\"laisse\"` has not been replaced by the infinitive form is that it is a homonym to the noun `\"laisse\"`, lemmatization is sometimes sensitive to ambiguity."
      ]
    },
    {
      "cell_type": "markdown",
      "metadata": {
        "id": "CrkXKRjlfyib"
      },
      "source": [
        "5. You will now have to clean our texts in order to prepare them for training.\n",
        "Let's do this in three different steps :\n",
        " * using the command `str.isalnum` remove all characters from your strings that are not alphanumeric except for whitespaces, and apostrophies.\n",
        " * using `str.replace`, `str.lower` and `str.strip` replace double whitespaces with single whitespaces, convert all characters to lowercase and trim starting and finishing whitespaces.\n",
        " * using spacy, replace all tokens in your texts with `lemma_` and remove all the stop words."
      ]
    },
    {
      "cell_type": "code",
      "execution_count": null,
      "metadata": {
        "colab": {
          "base_uri": "https://localhost:8080/",
          "height": 423
        },
        "id": "4JE3FrlIq_a8",
        "outputId": "adc8db1a-0838-42df-ba50-ffdc4aa90cf5"
      },
      "outputs": [],
      "source": [
        "french_reviews[\"review_clean\"] = french_reviews[\"review\"].apply(lambda x:''.join(ch for ch in x if ch.isalnum() or ch==\" \" or ch==\"'\"))\n",
        "french_reviews[\"review_clean\"] = french_reviews[\"review_clean\"].apply(lambda x: x.replace(\" +\",\" \").lower().strip())\n",
        "french_reviews[\"review_clean\"] = french_reviews[\"review_clean\"].apply(lambda x: \" \".join([token.lemma_ for token in nlp(x) if (token.lemma_ not in STOP_WORDS) and (token.text not in STOP_WORDS)]))"
      ]
    },
    {
      "cell_type": "code",
      "execution_count": 27,
      "metadata": {
        "id": "aSJVwigvV4Vm"
      },
      "outputs": [
        {
          "data": {
            "text/html": [
              "<div>\n",
              "<style scoped>\n",
              "    .dataframe tbody tr th:only-of-type {\n",
              "        vertical-align: middle;\n",
              "    }\n",
              "\n",
              "    .dataframe tbody tr th {\n",
              "        vertical-align: top;\n",
              "    }\n",
              "\n",
              "    .dataframe thead th {\n",
              "        text-align: right;\n",
              "    }\n",
              "</style>\n",
              "<table border=\"1\" class=\"dataframe\">\n",
              "  <thead>\n",
              "    <tr style=\"text-align: right;\">\n",
              "      <th></th>\n",
              "      <th>review</th>\n",
              "      <th>stars</th>\n",
              "      <th>review_clean</th>\n",
              "    </tr>\n",
              "  </thead>\n",
              "  <tbody>\n",
              "    <tr>\n",
              "      <th>0</th>\n",
              "      <td>Génial, fabuleux, exceptionnel ! J'aimerais qu...</td>\n",
              "      <td>5</td>\n",
              "      <td>génial fabuleux exceptionnel   aimer walt disn...</td>\n",
              "    </tr>\n",
              "    <tr>\n",
              "      <th>2</th>\n",
              "      <td>Toujours aussi magic, féerique !</td>\n",
              "      <td>5</td>\n",
              "      <td>magic féerique</td>\n",
              "    </tr>\n",
              "    <tr>\n",
              "      <th>11</th>\n",
              "      <td>En vacances en région parisienne nous nous som...</td>\n",
              "      <td>2</td>\n",
              "      <td>vacance région parisien décider visiter parc r...</td>\n",
              "    </tr>\n",
              "    <tr>\n",
              "      <th>12</th>\n",
              "      <td>Tropbeaufinalpleinlesyeuxoreil</td>\n",
              "      <td>5</td>\n",
              "      <td>tropbeaufinalpleinlesyeuxoreil</td>\n",
              "    </tr>\n",
              "    <tr>\n",
              "      <th>23</th>\n",
              "      <td>L'univers Disney reste merveilleux. Toutefois ...</td>\n",
              "      <td>4</td>\n",
              "      <td>univers disney merveilleux toutefois regretter...</td>\n",
              "    </tr>\n",
              "  </tbody>\n",
              "</table>\n",
              "</div>"
            ],
            "text/plain": [
              "                                               review  stars  \\\n",
              "0   Génial, fabuleux, exceptionnel ! J'aimerais qu...      5   \n",
              "2                    Toujours aussi magic, féerique !      5   \n",
              "11  En vacances en région parisienne nous nous som...      2   \n",
              "12                     Tropbeaufinalpleinlesyeuxoreil      5   \n",
              "23  L'univers Disney reste merveilleux. Toutefois ...      4   \n",
              "\n",
              "                                         review_clean  \n",
              "0   génial fabuleux exceptionnel   aimer walt disn...  \n",
              "2                                      magic féerique  \n",
              "11  vacance région parisien décider visiter parc r...  \n",
              "12                     tropbeaufinalpleinlesyeuxoreil  \n",
              "23  univers disney merveilleux toutefois regretter...  "
            ]
          },
          "execution_count": 27,
          "metadata": {},
          "output_type": "execute_result"
        }
      ],
      "source": [
        "french_reviews.head()"
      ]
    },
    {
      "cell_type": "code",
      "execution_count": 96,
      "metadata": {},
      "outputs": [
        {
          "data": {
            "text/plain": [
              "'sincèrement jamais changement   c parc vue revue br prix exorbitant prestation   temps d attente attraction merdique abuser br revenir pleuvoir'"
            ]
          },
          "execution_count": 96,
          "metadata": {},
          "output_type": "execute_result"
        }
      ],
      "source": [
        "french_reviews[french_reviews[\"stars\"] == 1].iloc[0].review_clean"
      ]
    },
    {
      "cell_type": "code",
      "execution_count": 92,
      "metadata": {},
      "outputs": [
        {
          "data": {
            "text/plain": [
              "\"En vacances en région parisienne nous nous sommes décidés à visiter ce parc reconnu mondialement. <br/> Tres beaux décors, parc relativement propre, temps d'attente acceptables. \""
            ]
          },
          "execution_count": 92,
          "metadata": {},
          "output_type": "execute_result"
        }
      ],
      "source": [
        "french_reviews.iloc[2].review"
      ]
    },
    {
      "cell_type": "code",
      "execution_count": 29,
      "metadata": {
        "id": "FEXJKqYqtzRu"
      },
      "outputs": [
        {
          "data": {
            "text/plain": [
              "review_clean\n",
              "True    8474\n",
              "Name: count, dtype: int64"
            ]
          },
          "execution_count": 29,
          "metadata": {},
          "output_type": "execute_result"
        }
      ],
      "source": [
        "mask = french_reviews.review_clean.apply(lambda x: type(x)==str)\n",
        "mask.value_counts()"
      ]
    },
    {
      "cell_type": "code",
      "execution_count": 33,
      "metadata": {},
      "outputs": [
        {
          "data": {
            "text/html": [
              "<div>\n",
              "<style scoped>\n",
              "    .dataframe tbody tr th:only-of-type {\n",
              "        vertical-align: middle;\n",
              "    }\n",
              "\n",
              "    .dataframe tbody tr th {\n",
              "        vertical-align: top;\n",
              "    }\n",
              "\n",
              "    .dataframe thead th {\n",
              "        text-align: right;\n",
              "    }\n",
              "</style>\n",
              "<table border=\"1\" class=\"dataframe\">\n",
              "  <thead>\n",
              "    <tr style=\"text-align: right;\">\n",
              "      <th></th>\n",
              "      <th>review</th>\n",
              "      <th>stars</th>\n",
              "      <th>review_clean</th>\n",
              "    </tr>\n",
              "  </thead>\n",
              "  <tbody>\n",
              "  </tbody>\n",
              "</table>\n",
              "</div>"
            ],
            "text/plain": [
              "Empty DataFrame\n",
              "Columns: [review, stars, review_clean]\n",
              "Index: []"
            ]
          },
          "execution_count": 33,
          "metadata": {},
          "output_type": "execute_result"
        }
      ],
      "source": [
        "french_reviews.loc[~mask]"
      ]
    },
    {
      "cell_type": "markdown",
      "metadata": {
        "id": "sV1u8GZYhCLq"
      },
      "source": [
        "6. Using `tf.keras.preprocessing.text.Tokenizer` [Tokenizer](https://www.tensorflow.org/api_docs/python/tf/keras/preprocessing/text/Tokenizer), process to encoding all the reviews (be careful, some reviews might have been entirely erased, try and understand why, remove those reviews)\n",
        "\n",
        "When instanciating the tokenizer, make sure you set it up to keep only the 1000 most common words."
      ]
    },
    {
      "cell_type": "code",
      "execution_count": 63,
      "metadata": {
        "id": "oWowSu9ZqB8Y"
      },
      "outputs": [],
      "source": [
        "import numpy as np\n",
        "tokenizer = tf.keras.preprocessing.text.Tokenizer(num_words=1000, oov_token=\"out_of_vocab\") # instanciate the tokenizer\n",
        "tokenizer.fit_on_texts(french_reviews.review_clean)\n",
        "french_reviews[\"review_encoded\"] = tokenizer.texts_to_sequences(french_reviews.review_clean)"
      ]
    },
    {
      "cell_type": "code",
      "execution_count": 35,
      "metadata": {
        "colab": {
          "base_uri": "https://localhost:8080/",
          "height": 302
        },
        "id": "c0BhixF3Vauw",
        "outputId": "6d2c2974-842f-48d4-8ca8-e086db1c9d1a"
      },
      "outputs": [
        {
          "data": {
            "text/html": [
              "<div>\n",
              "<style scoped>\n",
              "    .dataframe tbody tr th:only-of-type {\n",
              "        vertical-align: middle;\n",
              "    }\n",
              "\n",
              "    .dataframe tbody tr th {\n",
              "        vertical-align: top;\n",
              "    }\n",
              "\n",
              "    .dataframe thead th {\n",
              "        text-align: right;\n",
              "    }\n",
              "</style>\n",
              "<table border=\"1\" class=\"dataframe\">\n",
              "  <thead>\n",
              "    <tr style=\"text-align: right;\">\n",
              "      <th></th>\n",
              "      <th>review</th>\n",
              "      <th>stars</th>\n",
              "      <th>review_clean</th>\n",
              "      <th>review_encoded</th>\n",
              "    </tr>\n",
              "  </thead>\n",
              "  <tbody>\n",
              "    <tr>\n",
              "      <th>0</th>\n",
              "      <td>Génial, fabuleux, exceptionnel ! J'aimerais qu...</td>\n",
              "      <td>5</td>\n",
              "      <td>génial fabuleux exceptionnel   aimer walt disn...</td>\n",
              "      <td>[112, 595, 488, 106, 489, 5, 1, 1]</td>\n",
              "    </tr>\n",
              "    <tr>\n",
              "      <th>2</th>\n",
              "      <td>Toujours aussi magic, féerique !</td>\n",
              "      <td>5</td>\n",
              "      <td>magic féerique</td>\n",
              "      <td>[345, 87]</td>\n",
              "    </tr>\n",
              "    <tr>\n",
              "      <th>11</th>\n",
              "      <td>En vacances en région parisienne nous nous som...</td>\n",
              "      <td>2</td>\n",
              "      <td>vacance région parisien décider visiter parc r...</td>\n",
              "      <td>[422, 1, 1, 721, 480, 3, 1, 1, 4, 368, 131, 3,...</td>\n",
              "    </tr>\n",
              "    <tr>\n",
              "      <th>12</th>\n",
              "      <td>Tropbeaufinalpleinlesyeuxoreil</td>\n",
              "      <td>5</td>\n",
              "      <td>tropbeaufinalpleinlesyeuxoreil</td>\n",
              "      <td>[1]</td>\n",
              "    </tr>\n",
              "    <tr>\n",
              "      <th>23</th>\n",
              "      <td>L'univers Disney reste merveilleux. Toutefois ...</td>\n",
              "      <td>4</td>\n",
              "      <td>univers disney merveilleux toutefois regretter...</td>\n",
              "      <td>[391, 5, 100, 1, 531, 68, 1, 124, 174, 1, 122,...</td>\n",
              "    </tr>\n",
              "  </tbody>\n",
              "</table>\n",
              "</div>"
            ],
            "text/plain": [
              "                                               review  stars  \\\n",
              "0   Génial, fabuleux, exceptionnel ! J'aimerais qu...      5   \n",
              "2                    Toujours aussi magic, féerique !      5   \n",
              "11  En vacances en région parisienne nous nous som...      2   \n",
              "12                     Tropbeaufinalpleinlesyeuxoreil      5   \n",
              "23  L'univers Disney reste merveilleux. Toutefois ...      4   \n",
              "\n",
              "                                         review_clean  \\\n",
              "0   génial fabuleux exceptionnel   aimer walt disn...   \n",
              "2                                      magic féerique   \n",
              "11  vacance région parisien décider visiter parc r...   \n",
              "12                     tropbeaufinalpleinlesyeuxoreil   \n",
              "23  univers disney merveilleux toutefois regretter...   \n",
              "\n",
              "                                       review_encoded  \n",
              "0                  [112, 595, 488, 106, 489, 5, 1, 1]  \n",
              "2                                           [345, 87]  \n",
              "11  [422, 1, 1, 721, 480, 3, 1, 1, 4, 368, 131, 3,...  \n",
              "12                                                [1]  \n",
              "23  [391, 5, 100, 1, 531, 68, 1, 124, 174, 1, 122,...  "
            ]
          },
          "execution_count": 35,
          "metadata": {},
          "output_type": "execute_result"
        }
      ],
      "source": [
        "french_reviews.head()"
      ]
    },
    {
      "cell_type": "markdown",
      "metadata": {
        "id": "XWDcmw-ohmdM"
      },
      "source": [
        "7. Try and convert your texts and labels into a tensor slice dataset using `tf.data.Dataset.from_tensor_slices` (it should fail giving this error : `ValueError: Failed to convert a NumPy array to a Tensor (Unsupported object type list)`.)\n",
        "\n",
        "\n"
      ]
    },
    {
      "cell_type": "code",
      "execution_count": 36,
      "metadata": {
        "colab": {
          "base_uri": "https://localhost:8080/",
          "height": 659
        },
        "id": "tlwDyieOszdi",
        "outputId": "bb70ef7d-4449-4f5b-ea50-565c60181d3e"
      },
      "outputs": [
        {
          "ename": "ValueError",
          "evalue": "Failed to convert a NumPy array to a Tensor (Unsupported object type list).",
          "output_type": "error",
          "traceback": [
            "\u001b[0;31m---------------------------------------------------------------------------\u001b[0m",
            "\u001b[0;31mTypeError\u001b[0m                                 Traceback (most recent call last)",
            "File \u001b[0;32m~/.python/current/lib/python3.10/site-packages/tensorflow/python/data/util/structure.py:105\u001b[0m, in \u001b[0;36mnormalize_element\u001b[0;34m(element, element_signature)\u001b[0m\n\u001b[1;32m    104\u001b[0m   \u001b[38;5;28;01mif\u001b[39;00m spec \u001b[38;5;129;01mis\u001b[39;00m \u001b[38;5;28;01mNone\u001b[39;00m:\n\u001b[0;32m--> 105\u001b[0m     spec \u001b[38;5;241m=\u001b[39m \u001b[43mtype_spec_from_value\u001b[49m\u001b[43m(\u001b[49m\u001b[43mt\u001b[49m\u001b[43m,\u001b[49m\u001b[43m \u001b[49m\u001b[43muse_fallback\u001b[49m\u001b[38;5;241;43m=\u001b[39;49m\u001b[38;5;28;43;01mFalse\u001b[39;49;00m\u001b[43m)\u001b[49m\n\u001b[1;32m    106\u001b[0m \u001b[38;5;28;01mexcept\u001b[39;00m \u001b[38;5;167;01mTypeError\u001b[39;00m:\n\u001b[1;32m    107\u001b[0m   \u001b[38;5;66;03m# TypeError indicates it was not possible to compute a `TypeSpec` for\u001b[39;00m\n\u001b[1;32m    108\u001b[0m   \u001b[38;5;66;03m# the value. As a fallback try converting the value to a tensor.\u001b[39;00m\n",
            "File \u001b[0;32m~/.python/current/lib/python3.10/site-packages/tensorflow/python/data/util/structure.py:514\u001b[0m, in \u001b[0;36mtype_spec_from_value\u001b[0;34m(element, use_fallback)\u001b[0m\n\u001b[1;32m    511\u001b[0m     logging\u001b[38;5;241m.\u001b[39mvlog(\n\u001b[1;32m    512\u001b[0m         \u001b[38;5;241m3\u001b[39m, \u001b[38;5;124m\"\u001b[39m\u001b[38;5;124mFailed to convert \u001b[39m\u001b[38;5;132;01m%r\u001b[39;00m\u001b[38;5;124m to tensor: \u001b[39m\u001b[38;5;132;01m%s\u001b[39;00m\u001b[38;5;124m\"\u001b[39m \u001b[38;5;241m%\u001b[39m (\u001b[38;5;28mtype\u001b[39m(element)\u001b[38;5;241m.\u001b[39m\u001b[38;5;18m__name__\u001b[39m, e))\n\u001b[0;32m--> 514\u001b[0m \u001b[38;5;28;01mraise\u001b[39;00m \u001b[38;5;167;01mTypeError\u001b[39;00m(\u001b[38;5;124m\"\u001b[39m\u001b[38;5;124mCould not build a `TypeSpec` for \u001b[39m\u001b[38;5;132;01m{}\u001b[39;00m\u001b[38;5;124m with type \u001b[39m\u001b[38;5;132;01m{}\u001b[39;00m\u001b[38;5;124m\"\u001b[39m\u001b[38;5;241m.\u001b[39mformat(\n\u001b[1;32m    515\u001b[0m     element,\n\u001b[1;32m    516\u001b[0m     \u001b[38;5;28mtype\u001b[39m(element)\u001b[38;5;241m.\u001b[39m\u001b[38;5;18m__name__\u001b[39m))\n",
            "\u001b[0;31mTypeError\u001b[0m: Could not build a `TypeSpec` for 0                        [112, 595, 488, 106, 489, 5, 1, 1]\n2                                                 [345, 87]\n11        [422, 1, 1, 721, 480, 3, 1, 1, 4, 368, 131, 3,...\n12                                                      [1]\n23        [391, 5, 100, 1, 531, 68, 1, 124, 174, 1, 122,...\n                                ...                        \n295057                                [11, 196, 30, 1, 496]\n295549    [30, 56, 18, 320, 104, 45, 60, 163, 30, 55, 30...\n298475    [24, 29, 123, 13, 46, 47, 48, 176, 6, 7, 70, 8...\n298832    [207, 106, 54, 5, 1, 391, 53, 18, 4, 30, 1, 60...\n299402    [5, 427, 120, 20, 329, 11, 1, 1, 23, 1, 88, 42...\nName: review_encoded, Length: 8474, dtype: object with type Series",
            "\nDuring handling of the above exception, another exception occurred:\n",
            "\u001b[0;31mValueError\u001b[0m                                Traceback (most recent call last)",
            "Cell \u001b[0;32mIn[36], line 1\u001b[0m\n\u001b[0;32m----> 1\u001b[0m full_ds \u001b[38;5;241m=\u001b[39m \u001b[43mtf\u001b[49m\u001b[38;5;241;43m.\u001b[39;49m\u001b[43mdata\u001b[49m\u001b[38;5;241;43m.\u001b[39;49m\u001b[43mDataset\u001b[49m\u001b[38;5;241;43m.\u001b[39;49m\u001b[43mfrom_tensor_slices\u001b[49m\u001b[43m(\u001b[49m\u001b[43m(\u001b[49m\u001b[43mfrench_reviews\u001b[49m\u001b[38;5;241;43m.\u001b[39;49m\u001b[43mreview_encoded\u001b[49m\u001b[43m,\u001b[49m\u001b[43m \u001b[49m\u001b[43mfrench_reviews\u001b[49m\u001b[38;5;241;43m.\u001b[39;49m\u001b[43mstars\u001b[49m\u001b[38;5;241;43m.\u001b[39;49m\u001b[43mvalues\u001b[49m\u001b[38;5;241;43m-\u001b[39;49m\u001b[38;5;241;43m1\u001b[39;49m\u001b[43m)\u001b[49m\u001b[43m)\u001b[49m\n",
            "File \u001b[0;32m~/.python/current/lib/python3.10/site-packages/tensorflow/python/data/ops/dataset_ops.py:826\u001b[0m, in \u001b[0;36mDatasetV2.from_tensor_slices\u001b[0;34m(tensors, name)\u001b[0m\n\u001b[1;32m    822\u001b[0m \u001b[38;5;66;03m# Loaded lazily due to a circular dependency (dataset_ops ->\u001b[39;00m\n\u001b[1;32m    823\u001b[0m \u001b[38;5;66;03m# from_tensor_slices_op -> dataset_ops).\u001b[39;00m\n\u001b[1;32m    824\u001b[0m \u001b[38;5;66;03m# pylint: disable=g-import-not-at-top,protected-access\u001b[39;00m\n\u001b[1;32m    825\u001b[0m \u001b[38;5;28;01mfrom\u001b[39;00m \u001b[38;5;21;01mtensorflow\u001b[39;00m\u001b[38;5;21;01m.\u001b[39;00m\u001b[38;5;21;01mpython\u001b[39;00m\u001b[38;5;21;01m.\u001b[39;00m\u001b[38;5;21;01mdata\u001b[39;00m\u001b[38;5;21;01m.\u001b[39;00m\u001b[38;5;21;01mops\u001b[39;00m \u001b[38;5;28;01mimport\u001b[39;00m from_tensor_slices_op\n\u001b[0;32m--> 826\u001b[0m \u001b[38;5;28;01mreturn\u001b[39;00m \u001b[43mfrom_tensor_slices_op\u001b[49m\u001b[38;5;241;43m.\u001b[39;49m\u001b[43m_from_tensor_slices\u001b[49m\u001b[43m(\u001b[49m\u001b[43mtensors\u001b[49m\u001b[43m,\u001b[49m\u001b[43m \u001b[49m\u001b[43mname\u001b[49m\u001b[43m)\u001b[49m\n",
            "File \u001b[0;32m~/.python/current/lib/python3.10/site-packages/tensorflow/python/data/ops/from_tensor_slices_op.py:25\u001b[0m, in \u001b[0;36m_from_tensor_slices\u001b[0;34m(tensors, name)\u001b[0m\n\u001b[1;32m     24\u001b[0m \u001b[38;5;28;01mdef\u001b[39;00m \u001b[38;5;21m_from_tensor_slices\u001b[39m(tensors, name\u001b[38;5;241m=\u001b[39m\u001b[38;5;28;01mNone\u001b[39;00m):\n\u001b[0;32m---> 25\u001b[0m   \u001b[38;5;28;01mreturn\u001b[39;00m \u001b[43m_TensorSliceDataset\u001b[49m\u001b[43m(\u001b[49m\u001b[43mtensors\u001b[49m\u001b[43m,\u001b[49m\u001b[43m \u001b[49m\u001b[43mname\u001b[49m\u001b[38;5;241;43m=\u001b[39;49m\u001b[43mname\u001b[49m\u001b[43m)\u001b[49m\n",
            "File \u001b[0;32m~/.python/current/lib/python3.10/site-packages/tensorflow/python/data/ops/from_tensor_slices_op.py:33\u001b[0m, in \u001b[0;36m_TensorSliceDataset.__init__\u001b[0;34m(self, element, is_files, name)\u001b[0m\n\u001b[1;32m     31\u001b[0m \u001b[38;5;28;01mdef\u001b[39;00m \u001b[38;5;21m__init__\u001b[39m(\u001b[38;5;28mself\u001b[39m, element, is_files\u001b[38;5;241m=\u001b[39m\u001b[38;5;28;01mFalse\u001b[39;00m, name\u001b[38;5;241m=\u001b[39m\u001b[38;5;28;01mNone\u001b[39;00m):\n\u001b[1;32m     32\u001b[0m \u001b[38;5;250m  \u001b[39m\u001b[38;5;124;03m\"\"\"See `Dataset.from_tensor_slices` for details.\"\"\"\u001b[39;00m\n\u001b[0;32m---> 33\u001b[0m   element \u001b[38;5;241m=\u001b[39m \u001b[43mstructure\u001b[49m\u001b[38;5;241;43m.\u001b[39;49m\u001b[43mnormalize_element\u001b[49m\u001b[43m(\u001b[49m\u001b[43melement\u001b[49m\u001b[43m)\u001b[49m\n\u001b[1;32m     34\u001b[0m   batched_spec \u001b[38;5;241m=\u001b[39m structure\u001b[38;5;241m.\u001b[39mtype_spec_from_value(element)\n\u001b[1;32m     35\u001b[0m   \u001b[38;5;28mself\u001b[39m\u001b[38;5;241m.\u001b[39m_tensors \u001b[38;5;241m=\u001b[39m structure\u001b[38;5;241m.\u001b[39mto_batched_tensor_list(batched_spec, element)\n",
            "File \u001b[0;32m~/.python/current/lib/python3.10/site-packages/tensorflow/python/data/util/structure.py:110\u001b[0m, in \u001b[0;36mnormalize_element\u001b[0;34m(element, element_signature)\u001b[0m\n\u001b[1;32m    105\u001b[0m     spec \u001b[38;5;241m=\u001b[39m type_spec_from_value(t, use_fallback\u001b[38;5;241m=\u001b[39m\u001b[38;5;28;01mFalse\u001b[39;00m)\n\u001b[1;32m    106\u001b[0m \u001b[38;5;28;01mexcept\u001b[39;00m \u001b[38;5;167;01mTypeError\u001b[39;00m:\n\u001b[1;32m    107\u001b[0m   \u001b[38;5;66;03m# TypeError indicates it was not possible to compute a `TypeSpec` for\u001b[39;00m\n\u001b[1;32m    108\u001b[0m   \u001b[38;5;66;03m# the value. As a fallback try converting the value to a tensor.\u001b[39;00m\n\u001b[1;32m    109\u001b[0m   normalized_components\u001b[38;5;241m.\u001b[39mappend(\n\u001b[0;32m--> 110\u001b[0m       \u001b[43mops\u001b[49m\u001b[38;5;241;43m.\u001b[39;49m\u001b[43mconvert_to_tensor\u001b[49m\u001b[43m(\u001b[49m\u001b[43mt\u001b[49m\u001b[43m,\u001b[49m\u001b[43m \u001b[49m\u001b[43mname\u001b[49m\u001b[38;5;241;43m=\u001b[39;49m\u001b[38;5;124;43m\"\u001b[39;49m\u001b[38;5;124;43mcomponent_\u001b[39;49m\u001b[38;5;132;43;01m%d\u001b[39;49;00m\u001b[38;5;124;43m\"\u001b[39;49m\u001b[43m \u001b[49m\u001b[38;5;241;43m%\u001b[39;49m\u001b[43m \u001b[49m\u001b[43mi\u001b[49m\u001b[43m)\u001b[49m)\n\u001b[1;32m    111\u001b[0m \u001b[38;5;28;01melse\u001b[39;00m:\n\u001b[1;32m    112\u001b[0m   \u001b[38;5;66;03m# To avoid a circular dependency between dataset_ops and structure,\u001b[39;00m\n\u001b[1;32m    113\u001b[0m   \u001b[38;5;66;03m# we check the class name instead of using `isinstance`.\u001b[39;00m\n\u001b[1;32m    114\u001b[0m   \u001b[38;5;28;01mif\u001b[39;00m spec\u001b[38;5;241m.\u001b[39m\u001b[38;5;18m__class__\u001b[39m\u001b[38;5;241m.\u001b[39m\u001b[38;5;18m__name__\u001b[39m \u001b[38;5;241m==\u001b[39m \u001b[38;5;124m\"\u001b[39m\u001b[38;5;124mDatasetSpec\u001b[39m\u001b[38;5;124m\"\u001b[39m:\n",
            "File \u001b[0;32m~/.python/current/lib/python3.10/site-packages/tensorflow/python/profiler/trace.py:183\u001b[0m, in \u001b[0;36mtrace_wrapper.<locals>.inner_wrapper.<locals>.wrapped\u001b[0;34m(*args, **kwargs)\u001b[0m\n\u001b[1;32m    181\u001b[0m   \u001b[38;5;28;01mwith\u001b[39;00m Trace(trace_name, \u001b[38;5;241m*\u001b[39m\u001b[38;5;241m*\u001b[39mtrace_kwargs):\n\u001b[1;32m    182\u001b[0m     \u001b[38;5;28;01mreturn\u001b[39;00m func(\u001b[38;5;241m*\u001b[39margs, \u001b[38;5;241m*\u001b[39m\u001b[38;5;241m*\u001b[39mkwargs)\n\u001b[0;32m--> 183\u001b[0m \u001b[38;5;28;01mreturn\u001b[39;00m \u001b[43mfunc\u001b[49m\u001b[43m(\u001b[49m\u001b[38;5;241;43m*\u001b[39;49m\u001b[43margs\u001b[49m\u001b[43m,\u001b[49m\u001b[43m \u001b[49m\u001b[38;5;241;43m*\u001b[39;49m\u001b[38;5;241;43m*\u001b[39;49m\u001b[43mkwargs\u001b[49m\u001b[43m)\u001b[49m\n",
            "File \u001b[0;32m~/.python/current/lib/python3.10/site-packages/tensorflow/python/framework/ops.py:713\u001b[0m, in \u001b[0;36mconvert_to_tensor\u001b[0;34m(value, dtype, name, as_ref, preferred_dtype, dtype_hint, ctx, accepted_result_types)\u001b[0m\n\u001b[1;32m    711\u001b[0m \u001b[38;5;66;03m# TODO(b/142518781): Fix all call-sites and remove redundant arg\u001b[39;00m\n\u001b[1;32m    712\u001b[0m preferred_dtype \u001b[38;5;241m=\u001b[39m preferred_dtype \u001b[38;5;129;01mor\u001b[39;00m dtype_hint\n\u001b[0;32m--> 713\u001b[0m \u001b[38;5;28;01mreturn\u001b[39;00m \u001b[43mtensor_conversion_registry\u001b[49m\u001b[38;5;241;43m.\u001b[39;49m\u001b[43mconvert\u001b[49m\u001b[43m(\u001b[49m\n\u001b[1;32m    714\u001b[0m \u001b[43m    \u001b[49m\u001b[43mvalue\u001b[49m\u001b[43m,\u001b[49m\u001b[43m \u001b[49m\u001b[43mdtype\u001b[49m\u001b[43m,\u001b[49m\u001b[43m \u001b[49m\u001b[43mname\u001b[49m\u001b[43m,\u001b[49m\u001b[43m \u001b[49m\u001b[43mas_ref\u001b[49m\u001b[43m,\u001b[49m\u001b[43m \u001b[49m\u001b[43mpreferred_dtype\u001b[49m\u001b[43m,\u001b[49m\u001b[43m \u001b[49m\u001b[43maccepted_result_types\u001b[49m\n\u001b[1;32m    715\u001b[0m \u001b[43m\u001b[49m\u001b[43m)\u001b[49m\n",
            "File \u001b[0;32m~/.python/current/lib/python3.10/site-packages/tensorflow/python/framework/tensor_conversion_registry.py:234\u001b[0m, in \u001b[0;36mconvert\u001b[0;34m(value, dtype, name, as_ref, preferred_dtype, accepted_result_types)\u001b[0m\n\u001b[1;32m    225\u001b[0m       \u001b[38;5;28;01mraise\u001b[39;00m \u001b[38;5;167;01mRuntimeError\u001b[39;00m(\n\u001b[1;32m    226\u001b[0m           _add_error_prefix(\n\u001b[1;32m    227\u001b[0m               \u001b[38;5;124mf\u001b[39m\u001b[38;5;124m\"\u001b[39m\u001b[38;5;124mConversion function \u001b[39m\u001b[38;5;132;01m{\u001b[39;00mconversion_func\u001b[38;5;132;01m!r}\u001b[39;00m\u001b[38;5;124m for type \u001b[39m\u001b[38;5;124m\"\u001b[39m\n\u001b[0;32m   (...)\u001b[0m\n\u001b[1;32m    230\u001b[0m               \u001b[38;5;124mf\u001b[39m\u001b[38;5;124m\"\u001b[39m\u001b[38;5;124mactual = \u001b[39m\u001b[38;5;132;01m{\u001b[39;00mret\u001b[38;5;241m.\u001b[39mdtype\u001b[38;5;241m.\u001b[39mbase_dtype\u001b[38;5;241m.\u001b[39mname\u001b[38;5;132;01m}\u001b[39;00m\u001b[38;5;124m\"\u001b[39m,\n\u001b[1;32m    231\u001b[0m               name\u001b[38;5;241m=\u001b[39mname))\n\u001b[1;32m    233\u001b[0m \u001b[38;5;28;01mif\u001b[39;00m ret \u001b[38;5;129;01mis\u001b[39;00m \u001b[38;5;28;01mNone\u001b[39;00m:\n\u001b[0;32m--> 234\u001b[0m   ret \u001b[38;5;241m=\u001b[39m \u001b[43mconversion_func\u001b[49m\u001b[43m(\u001b[49m\u001b[43mvalue\u001b[49m\u001b[43m,\u001b[49m\u001b[43m \u001b[49m\u001b[43mdtype\u001b[49m\u001b[38;5;241;43m=\u001b[39;49m\u001b[43mdtype\u001b[49m\u001b[43m,\u001b[49m\u001b[43m \u001b[49m\u001b[43mname\u001b[49m\u001b[38;5;241;43m=\u001b[39;49m\u001b[43mname\u001b[49m\u001b[43m,\u001b[49m\u001b[43m \u001b[49m\u001b[43mas_ref\u001b[49m\u001b[38;5;241;43m=\u001b[39;49m\u001b[43mas_ref\u001b[49m\u001b[43m)\u001b[49m\n\u001b[1;32m    236\u001b[0m \u001b[38;5;28;01mif\u001b[39;00m ret \u001b[38;5;129;01mis\u001b[39;00m \u001b[38;5;28mNotImplemented\u001b[39m:\n\u001b[1;32m    237\u001b[0m   \u001b[38;5;28;01mcontinue\u001b[39;00m\n",
            "File \u001b[0;32m~/.python/current/lib/python3.10/site-packages/tensorflow/python/framework/constant_tensor_conversion.py:29\u001b[0m, in \u001b[0;36m_constant_tensor_conversion_function\u001b[0;34m(v, dtype, name, as_ref)\u001b[0m\n\u001b[1;32m     26\u001b[0m \u001b[38;5;28;01mfrom\u001b[39;00m \u001b[38;5;21;01mtensorflow\u001b[39;00m\u001b[38;5;21;01m.\u001b[39;00m\u001b[38;5;21;01mpython\u001b[39;00m\u001b[38;5;21;01m.\u001b[39;00m\u001b[38;5;21;01mframework\u001b[39;00m \u001b[38;5;28;01mimport\u001b[39;00m constant_op  \u001b[38;5;66;03m# pylint: disable=g-import-not-at-top\u001b[39;00m\n\u001b[1;32m     28\u001b[0m _ \u001b[38;5;241m=\u001b[39m as_ref\n\u001b[0;32m---> 29\u001b[0m \u001b[38;5;28;01mreturn\u001b[39;00m \u001b[43mconstant_op\u001b[49m\u001b[38;5;241;43m.\u001b[39;49m\u001b[43mconstant\u001b[49m\u001b[43m(\u001b[49m\u001b[43mv\u001b[49m\u001b[43m,\u001b[49m\u001b[43m \u001b[49m\u001b[43mdtype\u001b[49m\u001b[38;5;241;43m=\u001b[39;49m\u001b[43mdtype\u001b[49m\u001b[43m,\u001b[49m\u001b[43m \u001b[49m\u001b[43mname\u001b[49m\u001b[38;5;241;43m=\u001b[39;49m\u001b[43mname\u001b[49m\u001b[43m)\u001b[49m\n",
            "File \u001b[0;32m~/.python/current/lib/python3.10/site-packages/tensorflow/python/ops/weak_tensor_ops.py:142\u001b[0m, in \u001b[0;36mweak_tensor_binary_op_wrapper.<locals>.wrapper\u001b[0;34m(*args, **kwargs)\u001b[0m\n\u001b[1;32m    140\u001b[0m \u001b[38;5;28;01mdef\u001b[39;00m \u001b[38;5;21mwrapper\u001b[39m(\u001b[38;5;241m*\u001b[39margs, \u001b[38;5;241m*\u001b[39m\u001b[38;5;241m*\u001b[39mkwargs):\n\u001b[1;32m    141\u001b[0m   \u001b[38;5;28;01mif\u001b[39;00m \u001b[38;5;129;01mnot\u001b[39;00m ops\u001b[38;5;241m.\u001b[39mis_auto_dtype_conversion_enabled():\n\u001b[0;32m--> 142\u001b[0m     \u001b[38;5;28;01mreturn\u001b[39;00m \u001b[43mop\u001b[49m\u001b[43m(\u001b[49m\u001b[38;5;241;43m*\u001b[39;49m\u001b[43margs\u001b[49m\u001b[43m,\u001b[49m\u001b[43m \u001b[49m\u001b[38;5;241;43m*\u001b[39;49m\u001b[38;5;241;43m*\u001b[39;49m\u001b[43mkwargs\u001b[49m\u001b[43m)\u001b[49m\n\u001b[1;32m    143\u001b[0m   bound_arguments \u001b[38;5;241m=\u001b[39m signature\u001b[38;5;241m.\u001b[39mbind(\u001b[38;5;241m*\u001b[39margs, \u001b[38;5;241m*\u001b[39m\u001b[38;5;241m*\u001b[39mkwargs)\n\u001b[1;32m    144\u001b[0m   bound_arguments\u001b[38;5;241m.\u001b[39mapply_defaults()\n",
            "File \u001b[0;32m~/.python/current/lib/python3.10/site-packages/tensorflow/python/framework/constant_op.py:276\u001b[0m, in \u001b[0;36mconstant\u001b[0;34m(value, dtype, shape, name)\u001b[0m\n\u001b[1;32m    177\u001b[0m \u001b[38;5;129m@tf_export\u001b[39m(\u001b[38;5;124m\"\u001b[39m\u001b[38;5;124mconstant\u001b[39m\u001b[38;5;124m\"\u001b[39m, v1\u001b[38;5;241m=\u001b[39m[])\n\u001b[1;32m    178\u001b[0m \u001b[38;5;28;01mdef\u001b[39;00m \u001b[38;5;21mconstant\u001b[39m(\n\u001b[1;32m    179\u001b[0m     value, dtype\u001b[38;5;241m=\u001b[39m\u001b[38;5;28;01mNone\u001b[39;00m, shape\u001b[38;5;241m=\u001b[39m\u001b[38;5;28;01mNone\u001b[39;00m, name\u001b[38;5;241m=\u001b[39m\u001b[38;5;124m\"\u001b[39m\u001b[38;5;124mConst\u001b[39m\u001b[38;5;124m\"\u001b[39m\n\u001b[1;32m    180\u001b[0m ) \u001b[38;5;241m-\u001b[39m\u001b[38;5;241m>\u001b[39m Union[ops\u001b[38;5;241m.\u001b[39mOperation, ops\u001b[38;5;241m.\u001b[39m_EagerTensorBase]:\n\u001b[1;32m    181\u001b[0m \u001b[38;5;250m  \u001b[39m\u001b[38;5;124;03m\"\"\"Creates a constant tensor from a tensor-like object.\u001b[39;00m\n\u001b[1;32m    182\u001b[0m \n\u001b[1;32m    183\u001b[0m \u001b[38;5;124;03m  Note: All eager `tf.Tensor` values are immutable (in contrast to\u001b[39;00m\n\u001b[0;32m   (...)\u001b[0m\n\u001b[1;32m    274\u001b[0m \u001b[38;5;124;03m    ValueError: if called on a symbolic tensor.\u001b[39;00m\n\u001b[1;32m    275\u001b[0m \u001b[38;5;124;03m  \"\"\"\u001b[39;00m\n\u001b[0;32m--> 276\u001b[0m   \u001b[38;5;28;01mreturn\u001b[39;00m \u001b[43m_constant_impl\u001b[49m\u001b[43m(\u001b[49m\u001b[43mvalue\u001b[49m\u001b[43m,\u001b[49m\u001b[43m \u001b[49m\u001b[43mdtype\u001b[49m\u001b[43m,\u001b[49m\u001b[43m \u001b[49m\u001b[43mshape\u001b[49m\u001b[43m,\u001b[49m\u001b[43m \u001b[49m\u001b[43mname\u001b[49m\u001b[43m,\u001b[49m\u001b[43m \u001b[49m\u001b[43mverify_shape\u001b[49m\u001b[38;5;241;43m=\u001b[39;49m\u001b[38;5;28;43;01mFalse\u001b[39;49;00m\u001b[43m,\u001b[49m\n\u001b[1;32m    277\u001b[0m \u001b[43m                        \u001b[49m\u001b[43mallow_broadcast\u001b[49m\u001b[38;5;241;43m=\u001b[39;49m\u001b[38;5;28;43;01mTrue\u001b[39;49;00m\u001b[43m)\u001b[49m\n",
            "File \u001b[0;32m~/.python/current/lib/python3.10/site-packages/tensorflow/python/framework/constant_op.py:289\u001b[0m, in \u001b[0;36m_constant_impl\u001b[0;34m(value, dtype, shape, name, verify_shape, allow_broadcast)\u001b[0m\n\u001b[1;32m    287\u001b[0m     \u001b[38;5;28;01mwith\u001b[39;00m trace\u001b[38;5;241m.\u001b[39mTrace(\u001b[38;5;124m\"\u001b[39m\u001b[38;5;124mtf.constant\u001b[39m\u001b[38;5;124m\"\u001b[39m):\n\u001b[1;32m    288\u001b[0m       \u001b[38;5;28;01mreturn\u001b[39;00m _constant_eager_impl(ctx, value, dtype, shape, verify_shape)\n\u001b[0;32m--> 289\u001b[0m   \u001b[38;5;28;01mreturn\u001b[39;00m \u001b[43m_constant_eager_impl\u001b[49m\u001b[43m(\u001b[49m\u001b[43mctx\u001b[49m\u001b[43m,\u001b[49m\u001b[43m \u001b[49m\u001b[43mvalue\u001b[49m\u001b[43m,\u001b[49m\u001b[43m \u001b[49m\u001b[43mdtype\u001b[49m\u001b[43m,\u001b[49m\u001b[43m \u001b[49m\u001b[43mshape\u001b[49m\u001b[43m,\u001b[49m\u001b[43m \u001b[49m\u001b[43mverify_shape\u001b[49m\u001b[43m)\u001b[49m\n\u001b[1;32m    291\u001b[0m const_tensor \u001b[38;5;241m=\u001b[39m ops\u001b[38;5;241m.\u001b[39m_create_graph_constant(  \u001b[38;5;66;03m# pylint: disable=protected-access\u001b[39;00m\n\u001b[1;32m    292\u001b[0m     value, dtype, shape, name, verify_shape, allow_broadcast\n\u001b[1;32m    293\u001b[0m )\n\u001b[1;32m    294\u001b[0m \u001b[38;5;28;01mreturn\u001b[39;00m const_tensor\n",
            "File \u001b[0;32m~/.python/current/lib/python3.10/site-packages/tensorflow/python/framework/constant_op.py:301\u001b[0m, in \u001b[0;36m_constant_eager_impl\u001b[0;34m(ctx, value, dtype, shape, verify_shape)\u001b[0m\n\u001b[1;32m    297\u001b[0m \u001b[38;5;28;01mdef\u001b[39;00m \u001b[38;5;21m_constant_eager_impl\u001b[39m(\n\u001b[1;32m    298\u001b[0m     ctx, value, dtype, shape, verify_shape\n\u001b[1;32m    299\u001b[0m ) \u001b[38;5;241m-\u001b[39m\u001b[38;5;241m>\u001b[39m ops\u001b[38;5;241m.\u001b[39m_EagerTensorBase:\n\u001b[1;32m    300\u001b[0m \u001b[38;5;250m  \u001b[39m\u001b[38;5;124;03m\"\"\"Creates a constant on the current device.\"\"\"\u001b[39;00m\n\u001b[0;32m--> 301\u001b[0m   t \u001b[38;5;241m=\u001b[39m \u001b[43mconvert_to_eager_tensor\u001b[49m\u001b[43m(\u001b[49m\u001b[43mvalue\u001b[49m\u001b[43m,\u001b[49m\u001b[43m \u001b[49m\u001b[43mctx\u001b[49m\u001b[43m,\u001b[49m\u001b[43m \u001b[49m\u001b[43mdtype\u001b[49m\u001b[43m)\u001b[49m\n\u001b[1;32m    302\u001b[0m   \u001b[38;5;28;01mif\u001b[39;00m shape \u001b[38;5;129;01mis\u001b[39;00m \u001b[38;5;28;01mNone\u001b[39;00m:\n\u001b[1;32m    303\u001b[0m     \u001b[38;5;28;01mreturn\u001b[39;00m t\n",
            "File \u001b[0;32m~/.python/current/lib/python3.10/site-packages/tensorflow/python/framework/constant_op.py:108\u001b[0m, in \u001b[0;36mconvert_to_eager_tensor\u001b[0;34m(value, ctx, dtype)\u001b[0m\n\u001b[1;32m    106\u001b[0m     dtype \u001b[38;5;241m=\u001b[39m dtypes\u001b[38;5;241m.\u001b[39mas_dtype(dtype)\u001b[38;5;241m.\u001b[39mas_datatype_enum\n\u001b[1;32m    107\u001b[0m ctx\u001b[38;5;241m.\u001b[39mensure_initialized()\n\u001b[0;32m--> 108\u001b[0m \u001b[38;5;28;01mreturn\u001b[39;00m \u001b[43mops\u001b[49m\u001b[38;5;241;43m.\u001b[39;49m\u001b[43mEagerTensor\u001b[49m\u001b[43m(\u001b[49m\u001b[43mvalue\u001b[49m\u001b[43m,\u001b[49m\u001b[43m \u001b[49m\u001b[43mctx\u001b[49m\u001b[38;5;241;43m.\u001b[39;49m\u001b[43mdevice_name\u001b[49m\u001b[43m,\u001b[49m\u001b[43m \u001b[49m\u001b[43mdtype\u001b[49m\u001b[43m)\u001b[49m\n",
            "\u001b[0;31mValueError\u001b[0m: Failed to convert a NumPy array to a Tensor (Unsupported object type list)."
          ]
        }
      ],
      "source": [
        "full_ds = tf.data.Dataset.from_tensor_slices((french_reviews.review_encoded, french_reviews.stars.values-1))"
      ]
    },
    {
      "cell_type": "markdown",
      "metadata": {
        "id": "2iWhGYhtim0_"
      },
      "source": [
        "8. This is perfectly normal, Tensorflow is incapable as of now to create a tensor dataset based on lists, we will have to store all of our encoded texts into a single numpy array before creating the tensorflow dataset.\n",
        "The problem is that not all our sequences are the same length, this is where the `tf.keras.preprocessing.sequence.pad_sequences` comes in handy, it will add zero padding at the beginning (`padding=\"pre\"`) or at the end (`padding=\"post\"`) of your sequences so they all have equal length."
      ]
    },
    {
      "cell_type": "code",
      "execution_count": 37,
      "metadata": {
        "id": "lI8qSZloil3w"
      },
      "outputs": [],
      "source": [
        "reviews_pad = tf.keras.preprocessing.sequence.pad_sequences(french_reviews.review_encoded, padding=\"post\")"
      ]
    },
    {
      "cell_type": "code",
      "execution_count": 38,
      "metadata": {},
      "outputs": [
        {
          "data": {
            "text/plain": [
              "array([[112, 595, 488, ...,   0,   0,   0],\n",
              "       [345,  87,   0, ...,   0,   0,   0],\n",
              "       [422,   1,   1, ...,   0,   0,   0],\n",
              "       ...,\n",
              "       [ 24,  29, 123, ...,   0,   0,   0],\n",
              "       [207, 106,  54, ...,   0,   0,   0],\n",
              "       [  5, 427, 120, ...,   0,   0,   0]], dtype=int32)"
            ]
          },
          "execution_count": 38,
          "metadata": {},
          "output_type": "execute_result"
        }
      ],
      "source": [
        "reviews_pad"
      ]
    },
    {
      "cell_type": "markdown",
      "metadata": {
        "id": "6Ch6zwLZpW6i"
      },
      "source": [
        "9. Do a `train_test_split` of your data (keep about 70% in the train). For this you may use `sklearn.model_selection.train_test_split`.\n",
        "\n"
      ]
    },
    {
      "cell_type": "code",
      "execution_count": 41,
      "metadata": {
        "id": "uo7edz0PAr3v"
      },
      "outputs": [],
      "source": [
        "# Train Test Split\n",
        "xtrain, xval, ytrain, yval = train_test_split(reviews_pad,french_reviews.stars, test_size=0.3)"
      ]
    },
    {
      "cell_type": "markdown",
      "metadata": {
        "id": "3YBVKh6XjY6X"
      },
      "source": [
        "10. Now that your sequences are padded create the tensor dataset for the training, and validation set. The target variable is qualitative ordinal, this means you may treat the sentiment analysis problem as a regression problem.\n",
        "However you may choose to adopt a classification approach, in this case make sure you modify the stars column so that the scores go from 0 to 4 instead of 1 to 5 to avoid errors when setting up your model's architecture and the loss function. (Since this is a multiple classification problem, we will use SparseCategoricalCrossentropy which assumes that the first label is 0)\n",
        "\n",
        "The solution will first use the regression approach."
      ]
    },
    {
      "cell_type": "code",
      "execution_count": 42,
      "metadata": {
        "id": "3_-Oldl3jlUl"
      },
      "outputs": [],
      "source": [
        "train = tf.data.Dataset.from_tensor_slices((xtrain, ytrain))\n",
        "val = tf.data.Dataset.from_tensor_slices((xval, yval))"
      ]
    },
    {
      "cell_type": "markdown",
      "metadata": {
        "id": "LCCcF5rJ_o25"
      },
      "source": [
        "11. Once you have done this you may use `.shuffle` on the train set, and `.batch`on both sets to organise them by batches of 64 observations.\n",
        "\n",
        "* [shuffle documentation](https://www.tensorflow.org/api_docs/python/tf/data/Dataset#shuffle)\n",
        "\n",
        "* [batch documentation](https://www.tensorflow.org/api_docs/python/tf/data/Dataset#batch)"
      ]
    },
    {
      "cell_type": "code",
      "execution_count": 43,
      "metadata": {
        "id": "HClAccyNCyRc"
      },
      "outputs": [],
      "source": [
        "train_batch = train.shuffle(len(train)).batch(64)\n",
        "val_batch = val.shuffle(len(val)).batch(64)"
      ]
    },
    {
      "cell_type": "markdown",
      "metadata": {
        "id": "EpUQB9xApckV"
      },
      "source": [
        "12. Look at a batch of data "
      ]
    },
    {
      "cell_type": "code",
      "execution_count": 44,
      "metadata": {
        "colab": {
          "base_uri": "https://localhost:8080/"
        },
        "id": "V8jxCfSSOUZ_",
        "outputId": "8d3e7429-e811-4b3d-96d3-8fa712a139f3"
      },
      "outputs": [
        {
          "name": "stdout",
          "output_type": "stream",
          "text": [
            "tf.Tensor(\n",
            "[[ 11   0   0 ...   0   0   0]\n",
            " [ 30  11 153 ...   0   0   0]\n",
            " [ 29  11   0 ...   0   0   0]\n",
            " ...\n",
            " [ 40 233 665 ...   0   0   0]\n",
            " [ 20  76  50 ...   0   0   0]\n",
            " [ 65  11  55 ...   0   0   0]], shape=(64, 443), dtype=int32) tf.Tensor(\n",
            "[5 5 4 5 5 5 3 5 3 5 4 4 5 5 5 5 5 5 5 4 5 3 5 1 5 3 3 5 5 2 5 4 4 5 1 4 5\n",
            " 5 5 5 5 5 3 4 5 3 5 3 5 5 4 4 2 5 5 3 5 5 5 5 3 2 5 4], shape=(64,), dtype=int64)\n"
          ]
        },
        {
          "name": "stderr",
          "output_type": "stream",
          "text": [
            "2024-03-18 13:20:20.417525: W tensorflow/core/framework/local_rendezvous.cc:404] Local rendezvous is aborting with status: OUT_OF_RANGE: End of sequence\n"
          ]
        }
      ],
      "source": [
        "# Regardons un batch \n",
        "for review, star in train_batch.take(1):\n",
        "  print(review, star)"
      ]
    },
    {
      "cell_type": "markdown",
      "metadata": {
        "id": "lMaPEPk6QS4x"
      },
      "source": [
        "## Modeling\n",
        "\n",
        "Let's create a model in order to train an embedding!"
      ]
    },
    {
      "cell_type": "markdown",
      "metadata": {
        "id": "rD3n6l1TplDN"
      },
      "source": [
        "1. Follow a similar architecture to the one we used in the code embedding demonstration."
      ]
    },
    {
      "cell_type": "code",
      "execution_count": 47,
      "metadata": {},
      "outputs": [
        {
          "data": {
            "text/plain": [
              "443"
            ]
          },
          "execution_count": 47,
          "metadata": {},
          "output_type": "execute_result"
        }
      ],
      "source": [
        "review.shape[1]"
      ]
    },
    {
      "cell_type": "code",
      "execution_count": 48,
      "metadata": {
        "id": "kYxNpFYEUWI4"
      },
      "outputs": [],
      "source": [
        "model = tf.keras.Sequential([\n",
        "                  # Couche d'Input Word Embedding           \n",
        "                  tf.keras.layers.Embedding(tokenizer.num_words+1, 8, input_shape=[review.shape[1],],name=\"embedding\"),\n",
        "                  # Gobal average pooling\n",
        "                  tf.keras.layers.GlobalAveragePooling1D(),\n",
        "\n",
        "                  # Couche Dense classique\n",
        "                  tf.keras.layers.Dense(16, activation='relu'),\n",
        "\n",
        "                  # Couche de sortie avec le nombre de neurones en sortie égale au nombre de classe avec fonction softmax\n",
        "                  tf.keras.layers.Dense(1, activation=\"linear\")\n",
        "])"
      ]
    },
    {
      "cell_type": "code",
      "execution_count": 49,
      "metadata": {
        "colab": {
          "base_uri": "https://localhost:8080/"
        },
        "id": "-KTqV8Mw0xQ5",
        "outputId": "4ba00d48-bc3e-45e9-dcc0-741cc0cd354e"
      },
      "outputs": [
        {
          "data": {
            "text/html": [
              "<pre style=\"white-space:pre;overflow-x:auto;line-height:normal;font-family:Menlo,'DejaVu Sans Mono',consolas,'Courier New',monospace\"><span style=\"font-weight: bold\">Model: \"sequential\"</span>\n",
              "</pre>\n"
            ],
            "text/plain": [
              "\u001b[1mModel: \"sequential\"\u001b[0m\n"
            ]
          },
          "metadata": {},
          "output_type": "display_data"
        },
        {
          "data": {
            "text/html": [
              "<pre style=\"white-space:pre;overflow-x:auto;line-height:normal;font-family:Menlo,'DejaVu Sans Mono',consolas,'Courier New',monospace\">┏━━━━━━━━━━━━━━━━━━━━━━━━━━━━━━━━━┳━━━━━━━━━━━━━━━━━━━━━━━━┳━━━━━━━━━━━━━━━┓\n",
              "┃<span style=\"font-weight: bold\"> Layer (type)                    </span>┃<span style=\"font-weight: bold\"> Output Shape           </span>┃<span style=\"font-weight: bold\">       Param # </span>┃\n",
              "┡━━━━━━━━━━━━━━━━━━━━━━━━━━━━━━━━━╇━━━━━━━━━━━━━━━━━━━━━━━━╇━━━━━━━━━━━━━━━┩\n",
              "│ embedding (<span style=\"color: #0087ff; text-decoration-color: #0087ff\">Embedding</span>)           │ (<span style=\"color: #00d7ff; text-decoration-color: #00d7ff\">None</span>, <span style=\"color: #00af00; text-decoration-color: #00af00\">443</span>, <span style=\"color: #00af00; text-decoration-color: #00af00\">8</span>)         │         <span style=\"color: #00af00; text-decoration-color: #00af00\">8,008</span> │\n",
              "├─────────────────────────────────┼────────────────────────┼───────────────┤\n",
              "│ global_average_pooling1d        │ (<span style=\"color: #00d7ff; text-decoration-color: #00d7ff\">None</span>, <span style=\"color: #00af00; text-decoration-color: #00af00\">8</span>)              │             <span style=\"color: #00af00; text-decoration-color: #00af00\">0</span> │\n",
              "│ (<span style=\"color: #0087ff; text-decoration-color: #0087ff\">GlobalAveragePooling1D</span>)        │                        │               │\n",
              "├─────────────────────────────────┼────────────────────────┼───────────────┤\n",
              "│ dense (<span style=\"color: #0087ff; text-decoration-color: #0087ff\">Dense</span>)                   │ (<span style=\"color: #00d7ff; text-decoration-color: #00d7ff\">None</span>, <span style=\"color: #00af00; text-decoration-color: #00af00\">16</span>)             │           <span style=\"color: #00af00; text-decoration-color: #00af00\">144</span> │\n",
              "├─────────────────────────────────┼────────────────────────┼───────────────┤\n",
              "│ dense_1 (<span style=\"color: #0087ff; text-decoration-color: #0087ff\">Dense</span>)                 │ (<span style=\"color: #00d7ff; text-decoration-color: #00d7ff\">None</span>, <span style=\"color: #00af00; text-decoration-color: #00af00\">1</span>)              │            <span style=\"color: #00af00; text-decoration-color: #00af00\">17</span> │\n",
              "└─────────────────────────────────┴────────────────────────┴───────────────┘\n",
              "</pre>\n"
            ],
            "text/plain": [
              "┏━━━━━━━━━━━━━━━━━━━━━━━━━━━━━━━━━┳━━━━━━━━━━━━━━━━━━━━━━━━┳━━━━━━━━━━━━━━━┓\n",
              "┃\u001b[1m \u001b[0m\u001b[1mLayer (type)                   \u001b[0m\u001b[1m \u001b[0m┃\u001b[1m \u001b[0m\u001b[1mOutput Shape          \u001b[0m\u001b[1m \u001b[0m┃\u001b[1m \u001b[0m\u001b[1m      Param #\u001b[0m\u001b[1m \u001b[0m┃\n",
              "┡━━━━━━━━━━━━━━━━━━━━━━━━━━━━━━━━━╇━━━━━━━━━━━━━━━━━━━━━━━━╇━━━━━━━━━━━━━━━┩\n",
              "│ embedding (\u001b[38;5;33mEmbedding\u001b[0m)           │ (\u001b[38;5;45mNone\u001b[0m, \u001b[38;5;34m443\u001b[0m, \u001b[38;5;34m8\u001b[0m)         │         \u001b[38;5;34m8,008\u001b[0m │\n",
              "├─────────────────────────────────┼────────────────────────┼───────────────┤\n",
              "│ global_average_pooling1d        │ (\u001b[38;5;45mNone\u001b[0m, \u001b[38;5;34m8\u001b[0m)              │             \u001b[38;5;34m0\u001b[0m │\n",
              "│ (\u001b[38;5;33mGlobalAveragePooling1D\u001b[0m)        │                        │               │\n",
              "├─────────────────────────────────┼────────────────────────┼───────────────┤\n",
              "│ dense (\u001b[38;5;33mDense\u001b[0m)                   │ (\u001b[38;5;45mNone\u001b[0m, \u001b[38;5;34m16\u001b[0m)             │           \u001b[38;5;34m144\u001b[0m │\n",
              "├─────────────────────────────────┼────────────────────────┼───────────────┤\n",
              "│ dense_1 (\u001b[38;5;33mDense\u001b[0m)                 │ (\u001b[38;5;45mNone\u001b[0m, \u001b[38;5;34m1\u001b[0m)              │            \u001b[38;5;34m17\u001b[0m │\n",
              "└─────────────────────────────────┴────────────────────────┴───────────────┘\n"
            ]
          },
          "metadata": {},
          "output_type": "display_data"
        },
        {
          "data": {
            "text/html": [
              "<pre style=\"white-space:pre;overflow-x:auto;line-height:normal;font-family:Menlo,'DejaVu Sans Mono',consolas,'Courier New',monospace\"><span style=\"font-weight: bold\"> Total params: </span><span style=\"color: #00af00; text-decoration-color: #00af00\">8,169</span> (31.91 KB)\n",
              "</pre>\n"
            ],
            "text/plain": [
              "\u001b[1m Total params: \u001b[0m\u001b[38;5;34m8,169\u001b[0m (31.91 KB)\n"
            ]
          },
          "metadata": {},
          "output_type": "display_data"
        },
        {
          "data": {
            "text/html": [
              "<pre style=\"white-space:pre;overflow-x:auto;line-height:normal;font-family:Menlo,'DejaVu Sans Mono',consolas,'Courier New',monospace\"><span style=\"font-weight: bold\"> Trainable params: </span><span style=\"color: #00af00; text-decoration-color: #00af00\">8,169</span> (31.91 KB)\n",
              "</pre>\n"
            ],
            "text/plain": [
              "\u001b[1m Trainable params: \u001b[0m\u001b[38;5;34m8,169\u001b[0m (31.91 KB)\n"
            ]
          },
          "metadata": {},
          "output_type": "display_data"
        },
        {
          "data": {
            "text/html": [
              "<pre style=\"white-space:pre;overflow-x:auto;line-height:normal;font-family:Menlo,'DejaVu Sans Mono',consolas,'Courier New',monospace\"><span style=\"font-weight: bold\"> Non-trainable params: </span><span style=\"color: #00af00; text-decoration-color: #00af00\">0</span> (0.00 B)\n",
              "</pre>\n"
            ],
            "text/plain": [
              "\u001b[1m Non-trainable params: \u001b[0m\u001b[38;5;34m0\u001b[0m (0.00 B)\n"
            ]
          },
          "metadata": {},
          "output_type": "display_data"
        }
      ],
      "source": [
        "model.summary()"
      ]
    },
    {
      "cell_type": "markdown",
      "metadata": {
        "id": "v-gKYS4_pu8I"
      },
      "source": [
        "2. Compile your model with the correct loss function, and the Adam optimizer."
      ]
    },
    {
      "cell_type": "code",
      "execution_count": 50,
      "metadata": {
        "id": "yOXk9F0YQ0j5"
      },
      "outputs": [],
      "source": [
        "optimizer= tf.keras.optimizers.Adam()\n",
        "\n",
        "model.compile(optimizer=optimizer,\n",
        "              loss=tf.keras.losses.MeanSquaredError(),\n",
        "              metrics=[tf.keras.metrics.MeanAbsoluteError()])"
      ]
    },
    {
      "cell_type": "markdown",
      "metadata": {
        "id": "r5Rsbpckp3jK"
      },
      "source": [
        "3. Fit your model on 20 epochs with weights to penalize too frequent notes. "
      ]
    },
    {
      "cell_type": "code",
      "execution_count": 136,
      "metadata": {
        "colab": {
          "base_uri": "https://localhost:8080/"
        },
        "id": "9qvWNK09RAPR",
        "outputId": "97df47ee-3f53-4cdb-e295-89880f73a10c"
      },
      "outputs": [
        {
          "name": "stdout",
          "output_type": "stream",
          "text": [
            "Epoch 1/50\n",
            "\u001b[1m93/93\u001b[0m \u001b[32m━━━━━━━━━━━━━━━━━━━━\u001b[0m\u001b[37m\u001b[0m \u001b[1m0s\u001b[0m 2ms/step - loss: 1.2309 - mean_absolute_error: 0.8667 - val_loss: 1.1506 - val_mean_absolute_error: 0.7798\n",
            "Epoch 2/50\n",
            "\u001b[1m93/93\u001b[0m \u001b[32m━━━━━━━━━━━━━━━━━━━━\u001b[0m\u001b[37m\u001b[0m \u001b[1m0s\u001b[0m 2ms/step - loss: 1.1320 - mean_absolute_error: 0.8096 - val_loss: 1.1227 - val_mean_absolute_error: 0.8391\n",
            "Epoch 3/50\n",
            "\u001b[1m93/93\u001b[0m \u001b[32m━━━━━━━━━━━━━━━━━━━━\u001b[0m\u001b[37m\u001b[0m \u001b[1m0s\u001b[0m 2ms/step - loss: 1.1708 - mean_absolute_error: 0.8345 - val_loss: 1.1632 - val_mean_absolute_error: 0.7408\n",
            "Epoch 4/50\n",
            "\u001b[1m93/93\u001b[0m \u001b[32m━━━━━━━━━━━━━━━━━━━━\u001b[0m\u001b[37m\u001b[0m \u001b[1m0s\u001b[0m 3ms/step - loss: 1.1482 - mean_absolute_error: 0.8125 - val_loss: 1.0823 - val_mean_absolute_error: 0.8001\n",
            "Epoch 5/50\n",
            "\u001b[1m93/93\u001b[0m \u001b[32m━━━━━━━━━━━━━━━━━━━━\u001b[0m\u001b[37m\u001b[0m \u001b[1m0s\u001b[0m 2ms/step - loss: 1.1376 - mean_absolute_error: 0.8120 - val_loss: 1.0963 - val_mean_absolute_error: 0.8455\n",
            "Epoch 6/50\n",
            "\u001b[1m93/93\u001b[0m \u001b[32m━━━━━━━━━━━━━━━━━━━━\u001b[0m\u001b[37m\u001b[0m \u001b[1m0s\u001b[0m 2ms/step - loss: 1.0858 - mean_absolute_error: 0.8004 - val_loss: 1.0532 - val_mean_absolute_error: 0.8027\n",
            "Epoch 7/50\n",
            "\u001b[1m93/93\u001b[0m \u001b[32m━━━━━━━━━━━━━━━━━━━━\u001b[0m\u001b[37m\u001b[0m \u001b[1m0s\u001b[0m 2ms/step - loss: 1.0844 - mean_absolute_error: 0.7969 - val_loss: 1.0362 - val_mean_absolute_error: 0.7905\n",
            "Epoch 8/50\n",
            "\u001b[1m93/93\u001b[0m \u001b[32m━━━━━━━━━━━━━━━━━━━━\u001b[0m\u001b[37m\u001b[0m \u001b[1m0s\u001b[0m 2ms/step - loss: 1.0933 - mean_absolute_error: 0.7931 - val_loss: 1.0159 - val_mean_absolute_error: 0.7590\n",
            "Epoch 9/50\n",
            "\u001b[1m93/93\u001b[0m \u001b[32m━━━━━━━━━━━━━━━━━━━━\u001b[0m\u001b[37m\u001b[0m \u001b[1m0s\u001b[0m 2ms/step - loss: 1.0827 - mean_absolute_error: 0.7879 - val_loss: 0.9984 - val_mean_absolute_error: 0.7518\n",
            "Epoch 10/50\n",
            "\u001b[1m93/93\u001b[0m \u001b[32m━━━━━━━━━━━━━━━━━━━━\u001b[0m\u001b[37m\u001b[0m \u001b[1m0s\u001b[0m 2ms/step - loss: 1.0533 - mean_absolute_error: 0.7693 - val_loss: 0.9882 - val_mean_absolute_error: 0.7202\n",
            "Epoch 11/50\n",
            "\u001b[1m93/93\u001b[0m \u001b[32m━━━━━━━━━━━━━━━━━━━━\u001b[0m\u001b[37m\u001b[0m \u001b[1m0s\u001b[0m 2ms/step - loss: 1.0639 - mean_absolute_error: 0.7763 - val_loss: 1.0106 - val_mean_absolute_error: 0.8147\n",
            "Epoch 12/50\n",
            "\u001b[1m93/93\u001b[0m \u001b[32m━━━━━━━━━━━━━━━━━━━━\u001b[0m\u001b[37m\u001b[0m \u001b[1m0s\u001b[0m 2ms/step - loss: 1.0210 - mean_absolute_error: 0.7648 - val_loss: 0.9476 - val_mean_absolute_error: 0.7242\n",
            "Epoch 13/50\n",
            "\u001b[1m93/93\u001b[0m \u001b[32m━━━━━━━━━━━━━━━━━━━━\u001b[0m\u001b[37m\u001b[0m \u001b[1m0s\u001b[0m 2ms/step - loss: 1.0017 - mean_absolute_error: 0.7627 - val_loss: 0.9267 - val_mean_absolute_error: 0.7222\n",
            "Epoch 14/50\n",
            "\u001b[1m93/93\u001b[0m \u001b[32m━━━━━━━━━━━━━━━━━━━━\u001b[0m\u001b[37m\u001b[0m \u001b[1m0s\u001b[0m 2ms/step - loss: 1.0043 - mean_absolute_error: 0.7551 - val_loss: 0.9226 - val_mean_absolute_error: 0.7469\n",
            "Epoch 15/50\n",
            "\u001b[1m93/93\u001b[0m \u001b[32m━━━━━━━━━━━━━━━━━━━━\u001b[0m\u001b[37m\u001b[0m \u001b[1m0s\u001b[0m 2ms/step - loss: 0.9712 - mean_absolute_error: 0.7384 - val_loss: 0.8969 - val_mean_absolute_error: 0.6899\n",
            "Epoch 16/50\n",
            "\u001b[1m93/93\u001b[0m \u001b[32m━━━━━━━━━━━━━━━━━━━━\u001b[0m\u001b[37m\u001b[0m \u001b[1m0s\u001b[0m 2ms/step - loss: 0.9371 - mean_absolute_error: 0.7254 - val_loss: 0.8857 - val_mean_absolute_error: 0.7044\n",
            "Epoch 17/50\n",
            "\u001b[1m93/93\u001b[0m \u001b[32m━━━━━━━━━━━━━━━━━━━━\u001b[0m\u001b[37m\u001b[0m \u001b[1m0s\u001b[0m 2ms/step - loss: 0.9200 - mean_absolute_error: 0.7157 - val_loss: 0.8835 - val_mean_absolute_error: 0.7264\n",
            "Epoch 18/50\n",
            "\u001b[1m93/93\u001b[0m \u001b[32m━━━━━━━━━━━━━━━━━━━━\u001b[0m\u001b[37m\u001b[0m \u001b[1m0s\u001b[0m 2ms/step - loss: 0.9177 - mean_absolute_error: 0.7116 - val_loss: 0.8546 - val_mean_absolute_error: 0.6798\n",
            "Epoch 19/50\n",
            "\u001b[1m93/93\u001b[0m \u001b[32m━━━━━━━━━━━━━━━━━━━━\u001b[0m\u001b[37m\u001b[0m \u001b[1m0s\u001b[0m 2ms/step - loss: 0.9043 - mean_absolute_error: 0.7044 - val_loss: 0.8703 - val_mean_absolute_error: 0.7247\n",
            "Epoch 20/50\n",
            "\u001b[1m93/93\u001b[0m \u001b[32m━━━━━━━━━━━━━━━━━━━━\u001b[0m\u001b[37m\u001b[0m \u001b[1m0s\u001b[0m 2ms/step - loss: 0.8901 - mean_absolute_error: 0.6999 - val_loss: 0.8557 - val_mean_absolute_error: 0.6329\n",
            "Epoch 21/50\n",
            "\u001b[1m93/93\u001b[0m \u001b[32m━━━━━━━━━━━━━━━━━━━━\u001b[0m\u001b[37m\u001b[0m \u001b[1m0s\u001b[0m 2ms/step - loss: 0.8395 - mean_absolute_error: 0.6712 - val_loss: 0.8248 - val_mean_absolute_error: 0.6711\n",
            "Epoch 22/50\n",
            "\u001b[1m93/93\u001b[0m \u001b[32m━━━━━━━━━━━━━━━━━━━━\u001b[0m\u001b[37m\u001b[0m \u001b[1m0s\u001b[0m 2ms/step - loss: 0.9032 - mean_absolute_error: 0.6943 - val_loss: 0.8185 - val_mean_absolute_error: 0.6718\n",
            "Epoch 23/50\n",
            "\u001b[1m93/93\u001b[0m \u001b[32m━━━━━━━━━━━━━━━━━━━━\u001b[0m\u001b[37m\u001b[0m \u001b[1m0s\u001b[0m 2ms/step - loss: 0.9095 - mean_absolute_error: 0.7089 - val_loss: 0.8202 - val_mean_absolute_error: 0.6315\n",
            "Epoch 24/50\n",
            "\u001b[1m93/93\u001b[0m \u001b[32m━━━━━━━━━━━━━━━━━━━━\u001b[0m\u001b[37m\u001b[0m \u001b[1m0s\u001b[0m 2ms/step - loss: 0.8954 - mean_absolute_error: 0.6908 - val_loss: 0.8199 - val_mean_absolute_error: 0.6881\n",
            "Epoch 25/50\n",
            "\u001b[1m93/93\u001b[0m \u001b[32m━━━━━━━━━━━━━━━━━━━━\u001b[0m\u001b[37m\u001b[0m \u001b[1m0s\u001b[0m 2ms/step - loss: 0.8263 - mean_absolute_error: 0.6690 - val_loss: 0.8250 - val_mean_absolute_error: 0.6122\n",
            "Epoch 26/50\n",
            "\u001b[1m93/93\u001b[0m \u001b[32m━━━━━━━━━━━━━━━━━━━━\u001b[0m\u001b[37m\u001b[0m \u001b[1m0s\u001b[0m 2ms/step - loss: 0.8427 - mean_absolute_error: 0.6658 - val_loss: 0.9758 - val_mean_absolute_error: 0.8222\n",
            "Epoch 27/50\n",
            "\u001b[1m93/93\u001b[0m \u001b[32m━━━━━━━━━━━━━━━━━━━━\u001b[0m\u001b[37m\u001b[0m \u001b[1m0s\u001b[0m 2ms/step - loss: 0.8218 - mean_absolute_error: 0.6657 - val_loss: 0.8006 - val_mean_absolute_error: 0.6153\n",
            "Epoch 28/50\n",
            "\u001b[1m93/93\u001b[0m \u001b[32m━━━━━━━━━━━━━━━━━━━━\u001b[0m\u001b[37m\u001b[0m \u001b[1m0s\u001b[0m 2ms/step - loss: 0.8233 - mean_absolute_error: 0.6599 - val_loss: 0.7897 - val_mean_absolute_error: 0.6197\n",
            "Epoch 29/50\n",
            "\u001b[1m93/93\u001b[0m \u001b[32m━━━━━━━━━━━━━━━━━━━━\u001b[0m\u001b[37m\u001b[0m \u001b[1m0s\u001b[0m 2ms/step - loss: 0.8187 - mean_absolute_error: 0.6521 - val_loss: 0.7850 - val_mean_absolute_error: 0.6651\n",
            "Epoch 30/50\n",
            "\u001b[1m93/93\u001b[0m \u001b[32m━━━━━━━━━━━━━━━━━━━━\u001b[0m\u001b[37m\u001b[0m \u001b[1m0s\u001b[0m 2ms/step - loss: 0.8062 - mean_absolute_error: 0.6564 - val_loss: 0.7921 - val_mean_absolute_error: 0.6767\n",
            "Epoch 31/50\n",
            "\u001b[1m93/93\u001b[0m \u001b[32m━━━━━━━━━━━━━━━━━━━━\u001b[0m\u001b[37m\u001b[0m \u001b[1m0s\u001b[0m 3ms/step - loss: 0.7791 - mean_absolute_error: 0.6435 - val_loss: 0.7941 - val_mean_absolute_error: 0.6784\n",
            "Epoch 32/50\n",
            "\u001b[1m93/93\u001b[0m \u001b[32m━━━━━━━━━━━━━━━━━━━━\u001b[0m\u001b[37m\u001b[0m \u001b[1m0s\u001b[0m 2ms/step - loss: 0.7828 - mean_absolute_error: 0.6456 - val_loss: 0.7816 - val_mean_absolute_error: 0.6719\n",
            "Epoch 33/50\n",
            "\u001b[1m93/93\u001b[0m \u001b[32m━━━━━━━━━━━━━━━━━━━━\u001b[0m\u001b[37m\u001b[0m \u001b[1m0s\u001b[0m 2ms/step - loss: 0.7885 - mean_absolute_error: 0.6492 - val_loss: 0.8382 - val_mean_absolute_error: 0.5863\n",
            "Epoch 34/50\n",
            "\u001b[1m93/93\u001b[0m \u001b[32m━━━━━━━━━━━━━━━━━━━━\u001b[0m\u001b[37m\u001b[0m \u001b[1m0s\u001b[0m 2ms/step - loss: 0.7939 - mean_absolute_error: 0.6416 - val_loss: 0.9454 - val_mean_absolute_error: 0.8136\n",
            "Epoch 35/50\n",
            "\u001b[1m93/93\u001b[0m \u001b[32m━━━━━━━━━━━━━━━━━━━━\u001b[0m\u001b[37m\u001b[0m \u001b[1m0s\u001b[0m 2ms/step - loss: 0.8378 - mean_absolute_error: 0.6643 - val_loss: 0.7688 - val_mean_absolute_error: 0.6586\n",
            "Epoch 36/50\n",
            "\u001b[1m93/93\u001b[0m \u001b[32m━━━━━━━━━━━━━━━━━━━━\u001b[0m\u001b[37m\u001b[0m \u001b[1m0s\u001b[0m 2ms/step - loss: 0.8102 - mean_absolute_error: 0.6579 - val_loss: 0.7980 - val_mean_absolute_error: 0.5861\n",
            "Epoch 37/50\n",
            "\u001b[1m93/93\u001b[0m \u001b[32m━━━━━━━━━━━━━━━━━━━━\u001b[0m\u001b[37m\u001b[0m \u001b[1m0s\u001b[0m 2ms/step - loss: 0.7660 - mean_absolute_error: 0.6266 - val_loss: 0.7733 - val_mean_absolute_error: 0.6613\n",
            "Epoch 38/50\n",
            "\u001b[1m93/93\u001b[0m \u001b[32m━━━━━━━━━━━━━━━━━━━━\u001b[0m\u001b[37m\u001b[0m \u001b[1m0s\u001b[0m 2ms/step - loss: 0.7733 - mean_absolute_error: 0.6434 - val_loss: 0.7512 - val_mean_absolute_error: 0.6292\n",
            "Epoch 39/50\n",
            "\u001b[1m93/93\u001b[0m \u001b[32m━━━━━━━━━━━━━━━━━━━━\u001b[0m\u001b[37m\u001b[0m \u001b[1m0s\u001b[0m 2ms/step - loss: 0.7840 - mean_absolute_error: 0.6441 - val_loss: 0.8223 - val_mean_absolute_error: 0.7229\n",
            "Epoch 40/50\n",
            "\u001b[1m93/93\u001b[0m \u001b[32m━━━━━━━━━━━━━━━━━━━━\u001b[0m\u001b[37m\u001b[0m \u001b[1m0s\u001b[0m 2ms/step - loss: 0.8174 - mean_absolute_error: 0.6593 - val_loss: 0.7709 - val_mean_absolute_error: 0.6713\n",
            "Epoch 41/50\n",
            "\u001b[1m93/93\u001b[0m \u001b[32m━━━━━━━━━━━━━━━━━━━━\u001b[0m\u001b[37m\u001b[0m \u001b[1m0s\u001b[0m 2ms/step - loss: 0.7776 - mean_absolute_error: 0.6426 - val_loss: 0.7435 - val_mean_absolute_error: 0.6160\n",
            "Epoch 42/50\n",
            "\u001b[1m93/93\u001b[0m \u001b[32m━━━━━━━━━━━━━━━━━━━━\u001b[0m\u001b[37m\u001b[0m \u001b[1m0s\u001b[0m 2ms/step - loss: 0.8078 - mean_absolute_error: 0.6421 - val_loss: 0.7431 - val_mean_absolute_error: 0.6176\n",
            "Epoch 43/50\n",
            "\u001b[1m93/93\u001b[0m \u001b[32m━━━━━━━━━━━━━━━━━━━━\u001b[0m\u001b[37m\u001b[0m \u001b[1m0s\u001b[0m 2ms/step - loss: 0.7445 - mean_absolute_error: 0.6188 - val_loss: 0.7482 - val_mean_absolute_error: 0.5929\n",
            "Epoch 44/50\n",
            "\u001b[1m93/93\u001b[0m \u001b[32m━━━━━━━━━━━━━━━━━━━━\u001b[0m\u001b[37m\u001b[0m \u001b[1m0s\u001b[0m 2ms/step - loss: 0.7601 - mean_absolute_error: 0.6294 - val_loss: 0.7530 - val_mean_absolute_error: 0.5857\n",
            "Epoch 45/50\n",
            "\u001b[1m93/93\u001b[0m \u001b[32m━━━━━━━━━━━━━━━━━━━━\u001b[0m\u001b[37m\u001b[0m \u001b[1m0s\u001b[0m 2ms/step - loss: 0.7218 - mean_absolute_error: 0.6061 - val_loss: 0.7696 - val_mean_absolute_error: 0.5770\n",
            "Epoch 46/50\n",
            "\u001b[1m93/93\u001b[0m \u001b[32m━━━━━━━━━━━━━━━━━━━━\u001b[0m\u001b[37m\u001b[0m \u001b[1m0s\u001b[0m 2ms/step - loss: 0.7955 - mean_absolute_error: 0.6449 - val_loss: 0.7302 - val_mean_absolute_error: 0.6056\n",
            "Epoch 47/50\n",
            "\u001b[1m93/93\u001b[0m \u001b[32m━━━━━━━━━━━━━━━━━━━━\u001b[0m\u001b[37m\u001b[0m \u001b[1m0s\u001b[0m 2ms/step - loss: 0.6990 - mean_absolute_error: 0.6086 - val_loss: 0.7646 - val_mean_absolute_error: 0.5888\n",
            "Epoch 48/50\n",
            "\u001b[1m93/93\u001b[0m \u001b[32m━━━━━━━━━━━━━━━━━━━━\u001b[0m\u001b[37m\u001b[0m \u001b[1m0s\u001b[0m 2ms/step - loss: 0.7373 - mean_absolute_error: 0.6141 - val_loss: 0.7394 - val_mean_absolute_error: 0.5890\n",
            "Epoch 49/50\n",
            "\u001b[1m93/93\u001b[0m \u001b[32m━━━━━━━━━━━━━━━━━━━━\u001b[0m\u001b[37m\u001b[0m \u001b[1m0s\u001b[0m 2ms/step - loss: 0.6883 - mean_absolute_error: 0.5996 - val_loss: 0.7320 - val_mean_absolute_error: 0.6045\n",
            "Epoch 50/50\n",
            "\u001b[1m93/93\u001b[0m \u001b[32m━━━━━━━━━━━━━━━━━━━━\u001b[0m\u001b[37m\u001b[0m \u001b[1m0s\u001b[0m 2ms/step - loss: 0.7346 - mean_absolute_error: 0.6083 - val_loss: 0.7474 - val_mean_absolute_error: 0.5779\n"
          ]
        }
      ],
      "source": [
        "history = model.fit(train_batch, \n",
        "                    epochs=50, \n",
        "                    validation_data=val_batch)"
      ]
    },
    {
      "cell_type": "markdown",
      "metadata": {
        "id": "xDnsfUFQTkyJ"
      },
      "source": [
        "## Evaluation "
      ]
    },
    {
      "cell_type": "markdown",
      "metadata": {
        "id": "9Exbx9Bms-xZ"
      },
      "source": [
        "1. Create a graph showing your loss in relation to the number of epochs."
      ]
    },
    {
      "cell_type": "code",
      "execution_count": 137,
      "metadata": {
        "colab": {
          "base_uri": "https://localhost:8080/",
          "height": 279
        },
        "id": "mafVWHDFRIH6",
        "outputId": "1957986e-22b3-4752-e87d-4710d8f8bc4d"
      },
      "outputs": [
        {
          "data": {
            "image/png": "[encoded data removed]",
            "text/plain": [
              "<Figure size 640x480 with 1 Axes>"
            ]
          },
          "metadata": {},
          "output_type": "display_data"
        }
      ],
      "source": [
        "import matplotlib.pyplot as plt\n",
        "\n",
        "# Visualization of the training process on the loss function \n",
        "plt.plot(history.history[\"loss\"], color=\"b\")\n",
        "plt.plot(history.history[\"val_loss\"], color=\"r\")\n",
        "plt.ylabel(\"loss\")\n",
        "plt.xlabel(\"Epochs\")\n",
        "plt.show()"
      ]
    },
    {
      "cell_type": "markdown",
      "metadata": {
        "id": "gzFU7VcMtF2j"
      },
      "source": [
        "2. Create a graph showing your accuracy in relation to the number of epochs."
      ]
    },
    {
      "cell_type": "code",
      "execution_count": 138,
      "metadata": {
        "colab": {
          "base_uri": "https://localhost:8080/",
          "height": 279
        },
        "id": "D96WZP8cVOFL",
        "outputId": "a2f5ce14-1e87-4a3b-a01a-0d7136cc79ed"
      },
      "outputs": [
        {
          "data": {
            "image/png": "[encoded data removed]",
            "text/plain": [
              "<Figure size 640x480 with 1 Axes>"
            ]
          },
          "metadata": {},
          "output_type": "display_data"
        }
      ],
      "source": [
        "# Visualization of accuracy training \n",
        "plt.plot(history.history[\"mean_absolute_error\"], color=\"b\")\n",
        "plt.plot(history.history[\"val_mean_absolute_error\"], color=\"r\")\n",
        "plt.ylabel(\"mean_absolute_error\")\n",
        "plt.xlabel(\"Epochs\")\n",
        "plt.show()"
      ]
    },
    {
      "cell_type": "markdown",
      "metadata": {
        "id": "n0MwYOxorUFl"
      },
      "source": [
        "3. Write to file the weights on the embedding layer and the 1000 most common words registered by the tokenizer. You can help yourself to the code in the code embedding demonstration."
      ]
    },
    {
      "cell_type": "code",
      "execution_count": 55,
      "metadata": {
        "id": "mSWkyJJPY7r6"
      },
      "outputs": [],
      "source": [
        "vocab = [value for value in tokenizer.index_word.values()]\n",
        "vocab = vocab[:1000]\n",
        "weights = model.get_layer('embedding').get_weights()[0]\n",
        "\n",
        "log_dir = \"/workspaces/sentiment_test/embed\"\n",
        "os.makedirs(log_dir, exist_ok=True)\n",
        "out_v = io.open(log_dir+\"/vectors.tsv\", 'w', encoding='utf-8')\n",
        "out_m = io.open(log_dir+\"/metadata.tsv\", 'w', encoding='utf-8')\n",
        "\n",
        "for index, word in enumerate(vocab):\n",
        "  if index == 0:\n",
        "    continue  # skip 0, it's padding.\n",
        "  vec = weights[index]\n",
        "  out_v.write('\\t'.join([str(x) for x in vec]) + \"\\n\")\n",
        "  out_m.write(word + \"\\n\")\n",
        "out_v.close()\n",
        "out_m.close()"
      ]
    },
    {
      "cell_type": "markdown",
      "metadata": {
        "id": "124fXGFCr3ZR"
      },
      "source": [
        "4. Go to [the embedding projector](https://projector.tensorflow.org/) in order to visualize the embedding, what do you think?"
      ]
    },
    {
      "cell_type": "markdown",
      "metadata": {},
      "source": [
        "# test for fun"
      ]
    },
    {
      "cell_type": "code",
      "execution_count": null,
      "metadata": {},
      "outputs": [],
      "source": [
        "# tokenizer = tf.keras.preprocessing.text.Tokenizer(num_words=1000, oov_token=\"out_of_vocab\") # instanciate the tokenizer\n",
        "# tokenizer.fit_on_texts(french_reviews.review_clean)\n",
        "# french_reviews[\"review_encoded\"] = tokenizer.texts_to_sequences(french_reviews.review_clean)"
      ]
    },
    {
      "cell_type": "code",
      "execution_count": 151,
      "metadata": {},
      "outputs": [
        {
          "name": "stdout",
          "output_type": "stream",
          "text": [
            "<class 'pandas.core.frame.DataFrame'>\n",
            "Index: 8474 entries, 0 to 299402\n",
            "Data columns (total 4 columns):\n",
            " #   Column          Non-Null Count  Dtype \n",
            "---  ------          --------------  ----- \n",
            " 0   review          8474 non-null   object\n",
            " 1   stars           8474 non-null   int64 \n",
            " 2   review_clean    8474 non-null   object\n",
            " 3   review_encoded  8474 non-null   object\n",
            "dtypes: int64(1), object(3)\n",
            "memory usage: 331.0+ KB\n"
          ]
        }
      ],
      "source": [
        "french_reviews.info()"
      ]
    },
    {
      "cell_type": "code",
      "execution_count": 125,
      "metadata": {},
      "outputs": [
        {
          "data": {
            "text/plain": [
              "{'out_of_vocab': 1,\n",
              " 'attraction': 2,\n",
              " 'parc': 3,\n",
              " 'br': 4,\n",
              " 'disney': 5,\n",
              " 'alt': 6,\n",
              " 'classimg': 7,\n",
              " 'rolepresentation': 8,\n",
              " 'attente': 9,\n",
              " 'faire': 10,\n",
              " 'magique': 11,\n",
              " 'journée': 12,\n",
              " 'span': 13,\n",
              " 'bien': 14,\n",
              " 'trop': 15,\n",
              " 'height16': 16,\n",
              " 'width16span': 17,\n",
              " 'enfant': 18,\n",
              " 'passer': 19,\n",
              " 'fois': 20,\n",
              " 'super': 21,\n",
              " 'fermer': 22,\n",
              " 'petit': 23,\n",
              " 'magnifique': 24,\n",
              " 'class5mfr': 25,\n",
              " '47e3img': 26,\n",
              " 'prix': 27,\n",
              " 'magie': 28,\n",
              " 'monde': 29,\n",
              " 'séjour': 30,\n",
              " 'bon': 31,\n",
              " 'd': 32,\n",
              " 'an': 33,\n",
              " 'jour': 34,\n",
              " 'beaucoup': 35,\n",
              " 'class7oespanspan': 36,\n",
              " '2': 37,\n",
              " 'spectacle': 38,\n",
              " 'temps': 39,\n",
              " 'personnel': 40,\n",
              " 'aller': 41,\n",
              " 'vraiment': 42,\n",
              " 'disneyland': 43,\n",
              " 'parade': 44,\n",
              " 'voir': 45,\n",
              " 'class47e3': 46,\n",
              " '5mfr': 47,\n",
              " 'titleémoticône': 48,\n",
              " 'dommage': 49,\n",
              " 'plein': 50,\n",
              " 'c': 51,\n",
              " 'ariahiddentrue': 52,\n",
              " 'grand': 53,\n",
              " 'adorer': 54,\n",
              " 'venir': 55,\n",
              " 'top': 56,\n",
              " 'hôtel': 57,\n",
              " 'l': 58,\n",
              " 'oeil': 59,\n",
              " 'personnage': 60,\n",
              " 'fille': 61,\n",
              " 'rien': 62,\n",
              " 'cher': 63,\n",
              " '3': 64,\n",
              " 'moment': 65,\n",
              " 'panne': 66,\n",
              " 'revenir': 67,\n",
              " 'falloir': 68,\n",
              " 'class7oespanspanspan': 69,\n",
              " 'height24': 70,\n",
              " 'width24span': 71,\n",
              " 'classtextexposedhidespanspan': 72,\n",
              " 'trouver': 73,\n",
              " 'file': 74,\n",
              " 'famille': 75,\n",
              " 'prendre': 76,\n",
              " 'heure': 77,\n",
              " 'j': 78,\n",
              " 'attendre': 79,\n",
              " 'retourner': 80,\n",
              " 'minute': 81,\n",
              " 'queue': 82,\n",
              " 'payer': 83,\n",
              " 'décevoir': 84,\n",
              " 'mickey': 85,\n",
              " 'pass': 86,\n",
              " 'féerique': 87,\n",
              " 'noël': 88,\n",
              " 'superbe': 89,\n",
              " '4': 90,\n",
              " 'endroit': 91,\n",
              " 'manège': 92,\n",
              " 'année': 93,\n",
              " 'rêve': 94,\n",
              " 'étoile': 95,\n",
              " 'pari': 96,\n",
              " 'beau': 97,\n",
              " 'pouvoir': 98,\n",
              " 'parking': 99,\n",
              " 'merveilleux': 100,\n",
              " 'restaurant': 101,\n",
              " 'entrée': 102,\n",
              " 'long': 103,\n",
              " 'vouloir': 104,\n",
              " 'bel': 105,\n",
              " 'aimer': 106,\n",
              " 'mettre': 107,\n",
              " 'hier': 108,\n",
              " 'bémol': 109,\n",
              " '20': 110,\n",
              " 'fils': 111,\n",
              " 'génial': 112,\n",
              " 'souvenir': 113,\n",
              " 'srchttpsstaticxxfbcdnnetimagesemojiphpv9fed2162764png': 114,\n",
              " '5': 115,\n",
              " 'problème': 116,\n",
              " 'chose': 117,\n",
              " 'visite': 118,\n",
              " 'déçu': 119,\n",
              " '1': 120,\n",
              " 'agréable': 121,\n",
              " 'photo': 122,\n",
              " 'parfait': 123,\n",
              " 'autant': 124,\n",
              " 'contre': 125,\n",
              " 'part': 126,\n",
              " 'smileimg': 127,\n",
              " 'ratatouille': 128,\n",
              " 'jamais': 129,\n",
              " 'point': 130,\n",
              " 'décor': 131,\n",
              " 'aucun': 132,\n",
              " 'weekend': 133,\n",
              " 'savoir': 134,\n",
              " 'enfance': 135,\n",
              " 'arriver': 136,\n",
              " 'rénovation': 137,\n",
              " 'train': 138,\n",
              " 'mal': 139,\n",
              " 'tour': 140,\n",
              " 'plaisir': 141,\n",
              " 'profiter': 142,\n",
              " 'devoir': 143,\n",
              " 'bonheur': 144,\n",
              " 'technique': 145,\n",
              " 'billet': 146,\n",
              " 'propre': 147,\n",
              " 'star': 148,\n",
              " 'coup': 149,\n",
              " 'froid': 150,\n",
              " 'refaire': 151,\n",
              " 'place': 152,\n",
              " 'princesse': 153,\n",
              " 'studio': 154,\n",
              " '25': 155,\n",
              " 'non': 156,\n",
              " 'excellent': 157,\n",
              " 'bref': 158,\n",
              " 'min': 159,\n",
              " 'srchttpsstaticxxfbcdnnetimagesemojiphpv9feb2161f642png': 160,\n",
              " 'gros': 161,\n",
              " 'fast': 162,\n",
              " 'prochain': 163,\n",
              " 'travail': 164,\n",
              " 'nuit': 165,\n",
              " 'tarif': 166,\n",
              " 'service': 167,\n",
              " 'vrai': 168,\n",
              " 'vite': 169,\n",
              " 'période': 170,\n",
              " 'dernier': 171,\n",
              " 'ca': 172,\n",
              " 'oublier': 173,\n",
              " 'manger': 174,\n",
              " 'soir': 175,\n",
              " 'heartimg': 176,\n",
              " 'euro': 177,\n",
              " 'anniversaire': 178,\n",
              " 'qu': 179,\n",
              " 'space': 180,\n",
              " \"'\": 181,\n",
              " 'simplement': 182,\n",
              " 'class7oelt3spanspan': 183,\n",
              " 'accueil': 184,\n",
              " 'mieux': 185,\n",
              " 'mine': 186,\n",
              " 'boutique': 187,\n",
              " 'neige': 188,\n",
              " 'sympa': 189,\n",
              " 'rêver': 190,\n",
              " '10': 191,\n",
              " 'mois': 192,\n",
              " 'cast': 193,\n",
              " 'adulte': 194,\n",
              " 'feu': 195,\n",
              " 'fin': 196,\n",
              " 'lieu': 197,\n",
              " 'habitude': 198,\n",
              " 'mountain': 199,\n",
              " 'jeu': 200,\n",
              " 'sourire': 201,\n",
              " 'passeport': 202,\n",
              " 'inoubliable': 203,\n",
              " 'niveau': 204,\n",
              " 'chambre': 205,\n",
              " 'srchttpsstaticxxfbcdnnetimagesemojiphpv9f702242764png': 206,\n",
              " 'oui': 207,\n",
              " 'pirate': 208,\n",
              " '30': 209,\n",
              " 'heureusement': 210,\n",
              " 'manque': 211,\n",
              " 'bientôt': 212,\n",
              " 'annuel': 213,\n",
              " 'fan': 214,\n",
              " 'member': 215,\n",
              " 'halloween': 216,\n",
              " 'nourriture': 217,\n",
              " 'artifice': 218,\n",
              " 'rentrer': 219,\n",
              " 'week': 220,\n",
              " 'franchement': 221,\n",
              " 'perdre': 222,\n",
              " 'end': 223,\n",
              " 'ambiance': 224,\n",
              " 'émerveiller': 225,\n",
              " '15': 226,\n",
              " 'partir': 227,\n",
              " 'samedi': 228,\n",
              " '6': 229,\n",
              " '1h': 230,\n",
              " 's': 231,\n",
              " 'retrouver': 232,\n",
              " 'maison': 233,\n",
              " 'qualité': 234,\n",
              " 'semaine': 235,\n",
              " 'rester': 236,\n",
              " 'interminable': 237,\n",
              " 'repas': 238,\n",
              " 'cause': 239,\n",
              " 'final': 240,\n",
              " 'meilleur': 241,\n",
              " 'espérer': 242,\n",
              " 'comprendre': 243,\n",
              " 'vivement': 244,\n",
              " 'restauration': 245,\n",
              " 'client': 246,\n",
              " 'tomber': 247,\n",
              " 'reine': 248,\n",
              " 'sécurité': 249,\n",
              " 'surprise': 250,\n",
              " 'bravo': 251,\n",
              " 'nombre': 252,\n",
              " 'ami': 253,\n",
              " 'wars': 254,\n",
              " 'déception': 255,\n",
              " 'souci': 256,\n",
              " 'winkimg': 257,\n",
              " 'donner': 258,\n",
              " 'srchttpsstaticxxfbcdnnetimagesemojiphpv9ff62161f609png': 259,\n",
              " 'mauvais': 260,\n",
              " 'déjeuner': 261,\n",
              " 'valoir': 262,\n",
              " 'hotel': 263,\n",
              " 'vivre': 264,\n",
              " 'dream': 265,\n",
              " 'exorbitant': 266,\n",
              " 'opérer': 267,\n",
              " 'employé': 268,\n",
              " 'négatif': 269,\n",
              " 'retourne': 270,\n",
              " 'revoir': 271,\n",
              " 'hâter': 272,\n",
              " 'bcp': 273,\n",
              " 'accueillir': 274,\n",
              " 'fort': 275,\n",
              " 'caraïbe': 276,\n",
              " 'bonjour': 277,\n",
              " 'sensation': 278,\n",
              " 'offrir': 279,\n",
              " 'acheter': 280,\n",
              " 'malheureusement': 281,\n",
              " 'abuser': 282,\n",
              " 'classtextexposedshowbr': 283,\n",
              " 'changer': 284,\n",
              " 'château': 285,\n",
              " 'normal': 286,\n",
              " 'prévoir': 287,\n",
              " 'partout': 288,\n",
              " 'vie': 289,\n",
              " 'pluie': 290,\n",
              " 'décoration': 291,\n",
              " 'presque': 292,\n",
              " 'sejour': 293,\n",
              " 'site': 294,\n",
              " 'découvrir': 295,\n",
              " 'permettre': 296,\n",
              " 'devenir': 297,\n",
              " 'matin': 298,\n",
              " 'fermé': 299,\n",
              " 'janvier': 300,\n",
              " 'côté': 301,\n",
              " 'finir': 302,\n",
              " 'aimable': 303,\n",
              " 'féerie': 304,\n",
              " 'lasser': 305,\n",
              " 'sympathique': 306,\n",
              " 'élevé': 307,\n",
              " '1h30': 308,\n",
              " 'soirée': 309,\n",
              " 'retomber': 310,\n",
              " 'joli': 311,\n",
              " 'illumination': 312,\n",
              " 'journee': 313,\n",
              " 'dimanche': 314,\n",
              " 'ouverture': 315,\n",
              " 'n': 316,\n",
              " '2h': 317,\n",
              " '45': 318,\n",
              " 'préférer': 319,\n",
              " 'heureux': 320,\n",
              " 'rencontrer': 321,\n",
              " 'parent': 322,\n",
              " 'souriant': 323,\n",
              " 'pays': 324,\n",
              " 'rencontre': 325,\n",
              " 'connaître': 326,\n",
              " 'impossible': 327,\n",
              " 'fonctionner': 328,\n",
              " 'saison': 329,\n",
              " 'penser': 330,\n",
              " 'compte': 331,\n",
              " 'soleil': 332,\n",
              " 'ravir': 333,\n",
              " 'visiteur': 334,\n",
              " 'repartir': 335,\n",
              " 'moyen': 336,\n",
              " 'davy': 337,\n",
              " 'noel': 338,\n",
              " 'envie': 339,\n",
              " 'organisation': 340,\n",
              " 'sûr': 341,\n",
              " 'chance': 342,\n",
              " 'mot': 343,\n",
              " 'équipe': 344,\n",
              " 'magic': 345,\n",
              " 'pan': 346,\n",
              " 'rendez': 347,\n",
              " 'classtextexposedshow': 348,\n",
              " 'srchttpsstaticxxfbcdnnetimagesemojiphpv9fa12161f60dpng': 349,\n",
              " 'amuser': 350,\n",
              " 'sortir': 351,\n",
              " 'compter': 352,\n",
              " 'propreté': 353,\n",
              " 'ferme': 354,\n",
              " 'inadmissible': 355,\n",
              " 'fermeture': 356,\n",
              " 'bout': 357,\n",
              " 'commencer': 358,\n",
              " 'expérience': 359,\n",
              " 'organiser': 360,\n",
              " 'm': 361,\n",
              " 'cool': 362,\n",
              " 'âge': 363,\n",
              " 'fastpas': 364,\n",
              " 'peter': 365,\n",
              " 'présent': 366,\n",
              " 'honteux': 367,\n",
              " 'beal': 368,\n",
              " \"aujourd'hui\": 369,\n",
              " 'annoncer': 370,\n",
              " 'croire': 371,\n",
              " 'accès': 372,\n",
              " 'réserver': 373,\n",
              " 'toilette': 374,\n",
              " '7': 375,\n",
              " 'boisson': 376,\n",
              " 'ouvrir': 377,\n",
              " 'énormément': 378,\n",
              " 'partie': 379,\n",
              " 'décembre': 380,\n",
              " 'pire': 381,\n",
              " 'décevant': 382,\n",
              " '8': 383,\n",
              " 'ensemble': 384,\n",
              " 'indiana': 385,\n",
              " '10h': 386,\n",
              " 'demi': 387,\n",
              " 'gentil': 388,\n",
              " 'dreams': 389,\n",
              " 'positif': 390,\n",
              " 'univers': 391,\n",
              " 'jones': 392,\n",
              " 'demander': 393,\n",
              " 'cas': 394,\n",
              " 'cheyenn': 395,\n",
              " 'grâce': 396,\n",
              " 'srchttpsstaticxxfbcdnnetimagesemojiphpv9f7e2241f60dpng': 397,\n",
              " '12': 398,\n",
              " 'carte': 399,\n",
              " 'santer': 400,\n",
              " 'café': 401,\n",
              " 'coaster': 402,\n",
              " 'rapport': 403,\n",
              " 'joie': 404,\n",
              " 'fête': 405,\n",
              " 'moitié': 406,\n",
              " 'srchttpsstaticxxfbcdnnetimagesemojiphpv9fc82241f642png': 407,\n",
              " 'musique': 408,\n",
              " 'français': 409,\n",
              " 'peine': 410,\n",
              " 'vendredi': 411,\n",
              " 'class7oespanspanbr': 412,\n",
              " 'impression': 413,\n",
              " 'nemo': 414,\n",
              " 'land': 415,\n",
              " 'midi': 416,\n",
              " 'pourtant': 417,\n",
              " 'redire': 418,\n",
              " '2017': 419,\n",
              " 'tombe': 420,\n",
              " 'passage': 421,\n",
              " 'vacance': 422,\n",
              " 'mari': 423,\n",
              " 'arrêter': 424,\n",
              " 'loin': 425,\n",
              " 'eau': 426,\n",
              " 'minimum': 427,\n",
              " 'femme': 428,\n",
              " 'animation': 429,\n",
              " 'ailleurs': 430,\n",
              " 'sortie': 431,\n",
              " 'début': 432,\n",
              " 'servir': 433,\n",
              " 'suite': 434,\n",
              " 'honte': 435,\n",
              " 'france': 436,\n",
              " 'poussette': 437,\n",
              " 'avis': 438,\n",
              " 'éviter': 439,\n",
              " 'anglais': 440,\n",
              " 'new': 441,\n",
              " 'argent': 442,\n",
              " 'budget': 443,\n",
              " '90': 444,\n",
              " 'fantastique': 445,\n",
              " 'spécial': 446,\n",
              " 'disponible': 447,\n",
              " 'regarder': 448,\n",
              " 'limite': 449,\n",
              " 'mai': 450,\n",
              " 'vue': 451,\n",
              " 'indiquer': 452,\n",
              " 'souhaiter': 453,\n",
              " 'promener': 454,\n",
              " 'village': 455,\n",
              " 'réalité': 456,\n",
              " 'fou': 457,\n",
              " 'ranch': 458,\n",
              " 'buzz': 459,\n",
              " 'demande': 460,\n",
              " 'proposer': 461,\n",
              " 'remplir': 462,\n",
              " 'féériqu': 463,\n",
              " 'pur': 464,\n",
              " 'dur': 465,\n",
              " 'porte': 466,\n",
              " 'pied': 467,\n",
              " 'droit': 468,\n",
              " '40': 469,\n",
              " 'coûter': 470,\n",
              " 'extraordinaire': 471,\n",
              " 'voiture': 472,\n",
              " 'énorme': 473,\n",
              " 'ensuite': 474,\n",
              " 'donne': 475,\n",
              " 'voyage': 476,\n",
              " 'application': 477,\n",
              " 'tête': 478,\n",
              " '50': 479,\n",
              " 'visiter': 480,\n",
              " 'exemple': 481,\n",
              " 'absolument': 482,\n",
              " 'ticket': 483,\n",
              " '14': 484,\n",
              " 'apprécier': 485,\n",
              " 'novembre': 486,\n",
              " 'réservation': 487,\n",
              " 'exceptionnel': 488,\n",
              " 'walt': 489,\n",
              " 'content': 490,\n",
              " 'caisse': 491,\n",
              " 'obliger': 492,\n",
              " 'sublime': 493,\n",
              " 'plupart': 494,\n",
              " 'magicien': 495,\n",
              " 'lol': 496,\n",
              " '23': 497,\n",
              " 'amie': 498,\n",
              " 'maximum': 499,\n",
              " 'cest': 500,\n",
              " 'noir': 501,\n",
              " 'dormir': 502,\n",
              " 'poupée': 503,\n",
              " 'restaurer': 504,\n",
              " 'principal': 505,\n",
              " 'chaud': 506,\n",
              " 'ds': 507,\n",
              " 'pr': 508,\n",
              " 'moyenne': 509,\n",
              " 'garder': 510,\n",
              " 'réussir': 511,\n",
              " 'grinimg': 512,\n",
              " 'gâcher': 513,\n",
              " 'correct': 514,\n",
              " 'newport': 515,\n",
              " 'fric': 516,\n",
              " 'manquer': 517,\n",
              " 'jeune': 518,\n",
              " 'main': 519,\n",
              " 'ete': 520,\n",
              " 'recommander': 521,\n",
              " 'cadeau': 522,\n",
              " 'grandiose': 523,\n",
              " 'août': 524,\n",
              " '11': 525,\n",
              " 'finalement': 526,\n",
              " 'park': 527,\n",
              " 'maintenance': 528,\n",
              " 'fe': 529,\n",
              " 'arrivée': 530,\n",
              " 'regretter': 531,\n",
              " 'lumière': 532,\n",
              " 'bay': 533,\n",
              " 'sac': 534,\n",
              " 'nocturne': 535,\n",
              " 'chanson': 536,\n",
              " 'menu': 537,\n",
              " 'continuer': 538,\n",
              " '2016': 539,\n",
              " 'amoureux': 540,\n",
              " 'gentillesse': 541,\n",
              " 'commercial': 542,\n",
              " 'réaliser': 543,\n",
              " 'prêt': 544,\n",
              " 'formidable': 545,\n",
              " 'lundi': 546,\n",
              " 'entrer': 547,\n",
              " 'handicapé': 548,\n",
              " '75': 549,\n",
              " 'class7oedspanspan': 550,\n",
              " 'entendre': 551,\n",
              " 'tt': 552,\n",
              " 'conseil': 553,\n",
              " 'minnie': 554,\n",
              " 'pann': 555,\n",
              " 'club': 556,\n",
              " 'frownimg': 557,\n",
              " '27': 558,\n",
              " 'vif': 559,\n",
              " 'splendide': 560,\n",
              " 'septembre': 561,\n",
              " 'briller': 562,\n",
              " 'commentaire': 563,\n",
              " 'rapide': 564,\n",
              " 'hic': 565,\n",
              " 'court': 566,\n",
              " 'attention': 567,\n",
              " 'vendre': 568,\n",
              " 'simple': 569,\n",
              " 'triste': 570,\n",
              " 'séjourner': 571,\n",
              " 'travailler': 572,\n",
              " 'pareil': 573,\n",
              " '17': 574,\n",
              " '16': 575,\n",
              " 'crockett': 576,\n",
              " 'juillet': 577,\n",
              " 'goût': 578,\n",
              " 'montain': 579,\n",
              " 'partager': 580,\n",
              " 'revanche': 581,\n",
              " 'désagréable': 582,\n",
              " 'somme': 583,\n",
              " 'piscine': 584,\n",
              " 'âme': 585,\n",
              " 'incroyable': 586,\n",
              " 'zone': 587,\n",
              " 'expliquer': 588,\n",
              " 'excessif': 589,\n",
              " 'garçon': 590,\n",
              " 'vip': 591,\n",
              " 'hâte': 592,\n",
              " '18': 593,\n",
              " 'srchttpsstaticxxfbcdnnetimagesemojiphpv9f6a2161f641png': 594,\n",
              " 'fabuleux': 595,\n",
              " 'question': 596,\n",
              " 'chéri': 597,\n",
              " 'remettre': 598,\n",
              " 'plaindre': 599,\n",
              " 'entretenir': 600,\n",
              " 'séquoia': 601,\n",
              " 'information': 602,\n",
              " 'jai': 603,\n",
              " 'geste': 604,\n",
              " 'gratuit': 605,\n",
              " 'rendezvou': 606,\n",
              " 'prévenir': 607,\n",
              " 'raisonnable': 608,\n",
              " 'fumeur': 609,\n",
              " 'croiser': 610,\n",
              " '22': 611,\n",
              " 'renseigner': 612,\n",
              " 'choix': 613,\n",
              " 'magasin': 614,\n",
              " 'octobre': 615,\n",
              " 'serviable': 616,\n",
              " 'fil': 617,\n",
              " '13': 618,\n",
              " 'affluence': 619,\n",
              " 'laisse': 620,\n",
              " 'émotion': 621,\n",
              " 'paradis': 622,\n",
              " 'renouveler': 623,\n",
              " 'manege': 624,\n",
              " 'show': 625,\n",
              " '60': 626,\n",
              " 'total': 627,\n",
              " 'augmenter': 628,\n",
              " 'accessible': 629,\n",
              " 'tôt': 630,\n",
              " 'thunder': 631,\n",
              " 'régulièrement': 632,\n",
              " 'reve': 633,\n",
              " '24': 634,\n",
              " 'conseiller': 635,\n",
              " 'amp': 636,\n",
              " 'choisir': 637,\n",
              " 'complet': 638,\n",
              " 'marche': 639,\n",
              " 'sentir': 640,\n",
              " 'redevenir': 641,\n",
              " 'max': 642,\n",
              " 'foule': 643,\n",
              " 'concerner': 644,\n",
              " 'genial': 645,\n",
              " 'big': 646,\n",
              " 'ange': 647,\n",
              " 'monsieur': 648,\n",
              " 'mention': 649,\n",
              " 'hyper': 650,\n",
              " 'crush': 651,\n",
              " 'srchttpsstaticxxfbcdnnetimagesemojiphpv9f752162728png': 652,\n",
              " 'york': 653,\n",
              " 'extrêmement': 654,\n",
              " 'impeccable': 655,\n",
              " 'sequoia': 656,\n",
              " 'lodg': 657,\n",
              " 'réel': 658,\n",
              " 'écoute': 659,\n",
              " 'ok': 660,\n",
              " 'mars': 661,\n",
              " 'bof': 662,\n",
              " '100': 663,\n",
              " 'jeudi': 664,\n",
              " 'hanter': 665,\n",
              " 'adorable': 666,\n",
              " 'frite': 667,\n",
              " 'patience': 668,\n",
              " 'sandwich': 669,\n",
              " 'répondre': 670,\n",
              " '70': 671,\n",
              " 'essayer': 672,\n",
              " 'totalement': 673,\n",
              " 'général': 674,\n",
              " 'refuser': 675,\n",
              " \"y'\": 676,\n",
              " 'remercier': 677,\n",
              " 'rénover': 678,\n",
              " 'sale': 679,\n",
              " 'éclair': 680,\n",
              " 'thème': 681,\n",
              " 'pratique': 682,\n",
              " 'vous': 683,\n",
              " 'quasiment': 684,\n",
              " 'internet': 685,\n",
              " 'exister': 686,\n",
              " 'avril': 687,\n",
              " 'moindre': 688,\n",
              " 'manoir': 689,\n",
              " 'chaleureux': 690,\n",
              " 'avance': 691,\n",
              " 'complètement': 692,\n",
              " 'coin': 693,\n",
              " 'effort': 694,\n",
              " 'date': 695,\n",
              " 'hauteur': 696,\n",
              " 'ici': 697,\n",
              " '8h': 698,\n",
              " 'tard': 699,\n",
              " 'besoin': 700,\n",
              " 'srchttpsstaticxxfbcdnnetimagesemojiphpv9ff02161f603png': 701,\n",
              " 'parcbr': 702,\n",
              " 'scolaire': 703,\n",
              " 'peur': 704,\n",
              " 'roller': 705,\n",
              " '28': 706,\n",
              " 'prestation': 707,\n",
              " '35': 708,\n",
              " 'truc': 709,\n",
              " 'asseoir': 710,\n",
              " 'terreur': 711,\n",
              " 'buffet': 712,\n",
              " 'loulou': 713,\n",
              " 'port': 714,\n",
              " 'instant': 715,\n",
              " 'monter': 716,\n",
              " 'crocket': 717,\n",
              " 'couper': 718,\n",
              " 'achat': 719,\n",
              " 'ben': 720,\n",
              " 'décider': 721,\n",
              " 'etoile': 722,\n",
              " 'air': 723,\n",
              " 'interdire': 724,\n",
              " 'appeler': 725,\n",
              " 'patienter': 726,\n",
              " 'vol': 727,\n",
              " 'avantage': 728,\n",
              " 'direction': 729,\n",
              " 'améliorer': 730,\n",
              " 'jouer': 731,\n",
              " 'fée': 732,\n",
              " 'enlever': 733,\n",
              " '19': 734,\n",
              " 'srchttpsstaticxxfbcdnnetimagesemojiphpv9ff82242728png': 735,\n",
              " '26': 736,\n",
              " 'terrible': 737,\n",
              " 'navette': 738,\n",
              " 'mercredi': 739,\n",
              " 'mardi': 740,\n",
              " 'force': 741,\n",
              " 'réduction': 742,\n",
              " 'chaleur': 743,\n",
              " 'lire': 744,\n",
              " 'we': 745,\n",
              " 'staff': 746,\n",
              " 'forcément': 747,\n",
              " 'système': 748,\n",
              " 'respect': 749,\n",
              " 'feeriqu': 750,\n",
              " 'note': 751,\n",
              " 'difficile': 752,\n",
              " 'cendrillon': 753,\n",
              " 'espace': 754,\n",
              " 'assurer': 755,\n",
              " 'bouffe': 756,\n",
              " 'changement': 757,\n",
              " 'tjrs': 758,\n",
              " 'nouveauté': 759,\n",
              " 'food': 760,\n",
              " 'emmener': 761,\n",
              " 'déco': 762,\n",
              " 'garde': 763,\n",
              " 'février': 764,\n",
              " 'gérer': 765,\n",
              " 'important': 766,\n",
              " 'haut': 767,\n",
              " 'decu': 768,\n",
              " 'juin': 769,\n",
              " 'marcher': 770,\n",
              " 'angler': 771,\n",
              " 'utiliser': 772,\n",
              " 'téléphone': 773,\n",
              " 'accéder': 774,\n",
              " '18h': 775,\n",
              " 'extérieur': 776,\n",
              " 'résultat': 777,\n",
              " 'bouteille': 778,\n",
              " 'éclater': 779,\n",
              " 'préparer': 780,\n",
              " 'coeur': 781,\n",
              " 'deco': 782,\n",
              " 'bébé': 783,\n",
              " 'machine': 784,\n",
              " 'blanc': 785,\n",
              " 'route': 786,\n",
              " 'regret': 787,\n",
              " 'hamburger': 788,\n",
              " 'apporter': 789,\n",
              " 'magiquebr': 790,\n",
              " 'idem': 791,\n",
              " 'détail': 792,\n",
              " 'disneybr': 793,\n",
              " 'extrer': 794,\n",
              " 'puce': 795,\n",
              " 'copain': 796,\n",
              " 'imaginer': 797,\n",
              " 'cadre': 798,\n",
              " 'chercher': 799,\n",
              " 'pleuvoir': 800,\n",
              " 'maman': 801,\n",
              " 'bateau': 802,\n",
              " 'second': 803,\n",
              " 'compagnie': 804,\n",
              " 'beauté': 805,\n",
              " 'intérieur': 806,\n",
              " 'solution': 807,\n",
              " 'soin': 808,\n",
              " 'pavillon': 809,\n",
              " 'chouette': 810,\n",
              " 'joyeux': 811,\n",
              " '9': 812,\n",
              " 'merde': 813,\n",
              " '80': 814,\n",
              " 'face': 815,\n",
              " 'salle': 816,\n",
              " 'enceint': 817,\n",
              " 'occasion': 818,\n",
              " 'signaler': 819,\n",
              " 'scène': 820,\n",
              " '34': 821,\n",
              " 'faute': 822,\n",
              " 'évidemment': 823,\n",
              " 'wc': 824,\n",
              " 'annuler': 825,\n",
              " 'augmentation': 826,\n",
              " 'handicap': 827,\n",
              " 'quotidien': 828,\n",
              " 'réponse': 829,\n",
              " 'fêter': 830,\n",
              " 'raison': 831,\n",
              " 'empêcher': 832,\n",
              " 'phare': 833,\n",
              " '29': 834,\n",
              " 'perso': 835,\n",
              " 'panneau': 836,\n",
              " 'moin': 837,\n",
              " 'constater': 838,\n",
              " 'méchant': 839,\n",
              " 'incident': 840,\n",
              " '3h': 841,\n",
              " 'grave': 842,\n",
              " 'tapis': 843,\n",
              " 'aventure': 844,\n",
              " 'recevoir': 845,\n",
              " 'souffle': 846,\n",
              " 'unique': 847,\n",
              " 'loger': 848,\n",
              " 'enchanté': 849,\n",
              " 'terminer': 850,\n",
              " '21': 851,\n",
              " 'cours': 852,\n",
              " 'plan': 853,\n",
              " 'agreabl': 854,\n",
              " 'dépenser': 855,\n",
              " 'uniquement': 856,\n",
              " 'transporter': 857,\n",
              " 'renovation': 858,\n",
              " '2015': 859,\n",
              " 'guest': 860,\n",
              " '19h': 861,\n",
              " 'allée': 862,\n",
              " 'choquer': 863,\n",
              " 'présente': 864,\n",
              " 'pinocchio': 865,\n",
              " 'malgres': 866,\n",
              " 'world': 867,\n",
              " 'nickel': 868,\n",
              " 'char': 869,\n",
              " 'satisfaire': 870,\n",
              " 'srchttpsstaticxxfbcdnnetimagesemojiphpv9f2c2161f621png': 871,\n",
              " 'installer': 872,\n",
              " 'lit': 873,\n",
              " 'arrêt': 874,\n",
              " 'terre': 875,\n",
              " 'pleurer': 876,\n",
              " 'attent': 877,\n",
              " 'kilomètre': 878,\n",
              " 'évacuer': 879,\n",
              " 'humeur': 880,\n",
              " 'respecter': 881,\n",
              " 'srchttpsstaticxxfbcdnnetimagesemojiphpv9f2d2162665png': 882,\n",
              " 'bungalow': 883,\n",
              " 'article': 884,\n",
              " 'gosse': 885,\n",
              " 'tré': 886,\n",
              " 'informer': 887,\n",
              " 'table': 888,\n",
              " 'attentebr': 889,\n",
              " 'aerosmith': 890,\n",
              " 'larme': 891,\n",
              " 'rue': 892,\n",
              " 'lever': 893,\n",
              " 'membre': 894,\n",
              " 'street': 895,\n",
              " 'gagner': 896,\n",
              " 'état': 897,\n",
              " 'attractionsbr': 898,\n",
              " 'époustouflant': 899,\n",
              " 'hollywood': 900,\n",
              " 'bientot': 901,\n",
              " 'balader': 902,\n",
              " 'habiter': 903,\n",
              " 'émerveillement': 904,\n",
              " 'courant': 905,\n",
              " 'horaire': 906,\n",
              " 'accompagner': 907,\n",
              " 'dingo': 908,\n",
              " 'image': 909,\n",
              " 'bloquer': 910,\n",
              " 'hyperspace': 911,\n",
              " 'réellement': 912,\n",
              " 'dîner': 913,\n",
              " 'glace': 914,\n",
              " 'papa': 915,\n",
              " 'baisser': 916,\n",
              " 'lendemain': 917,\n",
              " 'burger': 918,\n",
              " 'chateau': 919,\n",
              " 'esprit': 920,\n",
              " 'durée': 921,\n",
              " 'dame': 922,\n",
              " 'dure': 923,\n",
              " 'couple': 924,\n",
              " 'qd': 925,\n",
              " 'rajouter': 926,\n",
              " 'envoyer': 927,\n",
              " 'genre': 928,\n",
              " 'castmember': 929,\n",
              " 'film': 930,\n",
              " 'clairement': 931,\n",
              " 'amabilité': 932,\n",
              " 'poser': 933,\n",
              " 'annee': 934,\n",
              " 'horrible': 935,\n",
              " 'fé': 936,\n",
              " 'tower': 937,\n",
              " 'impatience': 938,\n",
              " 'peluche': 939,\n",
              " 'précédent': 940,\n",
              " 'râler': 941,\n",
              " 'bras': 942,\n",
              " 'exagéré': 943,\n",
              " 'pratiquement': 944,\n",
              " 'milieu': 945,\n",
              " 'habituer': 946,\n",
              " 'rapidement': 947,\n",
              " 'foutre': 948,\n",
              " 'immense': 949,\n",
              " '120': 950,\n",
              " 'météo': 951,\n",
              " 'baisse': 952,\n",
              " 'ajouter': 953,\n",
              " 'découverte': 954,\n",
              " 'pizza': 955,\n",
              " 'événement': 956,\n",
              " 'hanté': 957,\n",
              " 'manqu': 958,\n",
              " 'mitiger': 959,\n",
              " 'compensation': 960,\n",
              " 'pub': 961,\n",
              " 'pension': 962,\n",
              " 'accueillant': 963,\n",
              " 'voler': 964,\n",
              " 'décorer': 965,\n",
              " 'conter': 966,\n",
              " 'lamentable': 967,\n",
              " 'public': 968,\n",
              " 'adapter': 969,\n",
              " 'pannebr': 970,\n",
              " 'soeur': 971,\n",
              " 'idée': 972,\n",
              " 'chanter': 973,\n",
              " '31': 974,\n",
              " 'réparation': 975,\n",
              " '2014': 976,\n",
              " 'vendeur': 977,\n",
              " 'merveille': 978,\n",
              " 'unsureimg': 979,\n",
              " 'srchttpsstaticxxfbcdnnetimagesemojiphpv9f912161f615png': 980,\n",
              " 'quasi': 981,\n",
              " 'facile': 982,\n",
              " 'europapark': 983,\n",
              " 'agent': 984,\n",
              " 'intérêt': 985,\n",
              " 'passion': 986,\n",
              " 'faux': 987,\n",
              " 'occuper': 988,\n",
              " 'différence': 989,\n",
              " 'small': 990,\n",
              " 'vente': 991,\n",
              " 'situation': 992,\n",
              " 'rire': 993,\n",
              " 'e': 994,\n",
              " 'casser': 995,\n",
              " 'message': 996,\n",
              " 'dégoûter': 997,\n",
              " 'accord': 998,\n",
              " 'mail': 999,\n",
              " 'peutêtre': 1000,\n",
              " ...}"
            ]
          },
          "execution_count": 125,
          "metadata": {},
          "output_type": "execute_result"
        }
      ],
      "source": [
        "tokenizer.word_index"
      ]
    },
    {
      "cell_type": "code",
      "execution_count": 144,
      "metadata": {},
      "outputs": [],
      "source": [
        "#test_word = ['attraction merdique']\n",
        "test_word = ['super magnifique']\n",
        "#test_word = 'attraction merdique abuser'\n",
        "test_word_tokenized = tokenizer.texts_to_sequences(test_word)"
      ]
    },
    {
      "cell_type": "code",
      "execution_count": 145,
      "metadata": {},
      "outputs": [
        {
          "data": {
            "text/plain": [
              "[21, 24]"
            ]
          },
          "execution_count": 145,
          "metadata": {},
          "output_type": "execute_result"
        }
      ],
      "source": [
        "test_word_tokenized[0]"
      ]
    },
    {
      "cell_type": "code",
      "execution_count": 146,
      "metadata": {},
      "outputs": [],
      "source": [
        "# Pad the sequences to have the same length as the training data by using reviews_pad\n",
        "new_text_padded = tf.keras.preprocessing.sequence.pad_sequences(test_word_tokenized, padding=\"post\", maxlen=reviews_pad.shape[1])"
      ]
    },
    {
      "cell_type": "code",
      "execution_count": 147,
      "metadata": {},
      "outputs": [
        {
          "data": {
            "text/plain": [
              "array([[21, 24,  0,  0,  0,  0,  0,  0,  0,  0,  0,  0,  0,  0,  0,  0,\n",
              "         0,  0,  0,  0,  0,  0,  0,  0,  0,  0,  0,  0,  0,  0,  0,  0,\n",
              "         0,  0,  0,  0,  0,  0,  0,  0,  0,  0,  0,  0,  0,  0,  0,  0,\n",
              "         0,  0,  0,  0,  0,  0,  0,  0,  0,  0,  0,  0,  0,  0,  0,  0,\n",
              "         0,  0,  0,  0,  0,  0,  0,  0,  0,  0,  0,  0,  0,  0,  0,  0,\n",
              "         0,  0,  0,  0,  0,  0,  0,  0,  0,  0,  0,  0,  0,  0,  0,  0,\n",
              "         0,  0,  0,  0,  0,  0,  0,  0,  0,  0,  0,  0,  0,  0,  0,  0,\n",
              "         0,  0,  0,  0,  0,  0,  0,  0,  0,  0,  0,  0,  0,  0,  0,  0,\n",
              "         0,  0,  0,  0,  0,  0,  0,  0,  0,  0,  0,  0,  0,  0,  0,  0,\n",
              "         0,  0,  0,  0,  0,  0,  0,  0,  0,  0,  0,  0,  0,  0,  0,  0,\n",
              "         0,  0,  0,  0,  0,  0,  0,  0,  0,  0,  0,  0,  0,  0,  0,  0,\n",
              "         0,  0,  0,  0,  0,  0,  0,  0,  0,  0,  0,  0,  0,  0,  0,  0,\n",
              "         0,  0,  0,  0,  0,  0,  0,  0,  0,  0,  0,  0,  0,  0,  0,  0,\n",
              "         0,  0,  0,  0,  0,  0,  0,  0,  0,  0,  0,  0,  0,  0,  0,  0,\n",
              "         0,  0,  0,  0,  0,  0,  0,  0,  0,  0,  0,  0,  0,  0,  0,  0,\n",
              "         0,  0,  0,  0,  0,  0,  0,  0,  0,  0,  0,  0,  0,  0,  0,  0,\n",
              "         0,  0,  0,  0,  0,  0,  0,  0,  0,  0,  0,  0,  0,  0,  0,  0,\n",
              "         0,  0,  0,  0,  0,  0,  0,  0,  0,  0,  0,  0,  0,  0,  0,  0,\n",
              "         0,  0,  0,  0,  0,  0,  0,  0,  0,  0,  0,  0,  0,  0,  0,  0,\n",
              "         0,  0,  0,  0,  0,  0,  0,  0,  0,  0,  0,  0,  0,  0,  0,  0,\n",
              "         0,  0,  0,  0,  0,  0,  0,  0,  0,  0,  0,  0,  0,  0,  0,  0,\n",
              "         0,  0,  0,  0,  0,  0,  0,  0,  0,  0,  0,  0,  0,  0,  0,  0,\n",
              "         0,  0,  0,  0,  0,  0,  0,  0,  0,  0,  0,  0,  0,  0,  0,  0,\n",
              "         0,  0,  0,  0,  0,  0,  0,  0,  0,  0,  0,  0,  0,  0,  0,  0,\n",
              "         0,  0,  0,  0,  0,  0,  0,  0,  0,  0,  0,  0,  0,  0,  0,  0,\n",
              "         0,  0,  0,  0,  0,  0,  0,  0,  0,  0,  0,  0,  0,  0,  0,  0,\n",
              "         0,  0,  0,  0,  0,  0,  0,  0,  0,  0,  0,  0,  0,  0,  0,  0,\n",
              "         0,  0,  0,  0,  0,  0,  0,  0,  0,  0,  0]], dtype=int32)"
            ]
          },
          "execution_count": 147,
          "metadata": {},
          "output_type": "execute_result"
        }
      ],
      "source": [
        "new_text_padded"
      ]
    },
    {
      "cell_type": "code",
      "execution_count": 148,
      "metadata": {},
      "outputs": [
        {
          "name": "stdout",
          "output_type": "stream",
          "text": [
            "\u001b[1m1/1\u001b[0m \u001b[32m━━━━━━━━━━━━━━━━━━━━\u001b[0m\u001b[37m\u001b[0m \u001b[1m0s\u001b[0m 12ms/step\n",
            "Prediction: [[4.881989]]\n"
          ]
        }
      ],
      "source": [
        "# Make a prediction\n",
        "prediction = model.predict(new_text_padded)\n",
        "\n",
        "print(\"Prediction:\", prediction)"
      ]
    }
  ],
  "metadata": {
    "accelerator": "GPU",
    "colab": {
      "collapsed_sections": [],
      "name": "01-Embedding_for_sentiment_analysis.ipynb",
      "provenance": []
    },
    "kernelspec": {
      "display_name": "Python 3 (ipykernel)",
      "language": "python",
      "name": "python3"
    },
    "language_info": {
      "codemirror_mode": {
        "name": "ipython",
        "version": 3
      },
      "file_extension": ".py",
      "mimetype": "text/x-python",
      "name": "python",
      "nbconvert_exporter": "python",
      "pygments_lexer": "ipython3",
      "version": "3.10.13"
    }
  },
  "nbformat": 4,
  "nbformat_minor": 0
}
